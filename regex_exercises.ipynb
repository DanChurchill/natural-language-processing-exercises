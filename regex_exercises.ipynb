{
 "cells": [
  {
   "cell_type": "markdown",
   "id": "ef3d9364",
   "metadata": {},
   "source": [
    "# Write a function named is_vowel. It should accept a string as input and use a regular expression to determine if the passed string is a vowel. While not explicity mentioned in the lesson, you can treat the result of re.search as a boolean value that indicates whether or not the regular expression matches the given string."
   ]
  },
  {
   "cell_type": "code",
   "execution_count": 7,
   "id": "a5be7fe6",
   "metadata": {},
   "outputs": [],
   "source": [
    "import re\n",
    "import pandas as pd"
   ]
  },
  {
   "cell_type": "code",
   "execution_count": 7,
   "id": "315ad885",
   "metadata": {},
   "outputs": [
    {
     "data": {
      "text/plain": [
       "True"
      ]
     },
     "execution_count": 7,
     "metadata": {},
     "output_type": "execute_result"
    }
   ],
   "source": [
    "bool(re.search(r'[aeiou]', 'mary had a little lamb'))"
   ]
  },
  {
   "cell_type": "code",
   "execution_count": 8,
   "id": "8120737a",
   "metadata": {},
   "outputs": [],
   "source": [
    "def is_vowel(sample):\n",
    "    return bool(re.search(r'[aeiou]', sample))"
   ]
  },
  {
   "cell_type": "code",
   "execution_count": 17,
   "id": "924aa385",
   "metadata": {},
   "outputs": [
    {
     "data": {
      "text/plain": [
       "True"
      ]
     },
     "execution_count": 17,
     "metadata": {},
     "output_type": "execute_result"
    }
   ],
   "source": [
    "is_vowel('dog')"
   ]
  },
  {
   "cell_type": "markdown",
   "id": "6c5ebd93",
   "metadata": {},
   "source": [
    "# Write a function named is_valid_username that accepts a string as input. A valid username starts with a lowercase letter, and only consists of lowercase letters, numbers, or the _ character. It should also be no longer than 32 characters. The function should return either True or False depending on whether the passed string is a valid username."
   ]
  },
  {
   "cell_type": "code",
   "execution_count": 124,
   "id": "14436842",
   "metadata": {},
   "outputs": [
    {
     "data": {
      "text/plain": [
       "False"
      ]
     },
     "execution_count": 124,
     "metadata": {},
     "output_type": "execute_result"
    }
   ],
   "source": [
    "# test for first char as lowercase letter.  True = valid\n",
    "bool(re.search(r'^[a-z]', 'Gis  0 is y usJKJKername'))"
   ]
  },
  {
   "cell_type": "code",
   "execution_count": 170,
   "id": "2becae87",
   "metadata": {},
   "outputs": [],
   "source": [
    "def is_valid_username(sample):\n",
    "    return bool(re.search(r'^[a-z][a-z0-9_]{,31}$', sample))"
   ]
  },
  {
   "cell_type": "code",
   "execution_count": 174,
   "id": "7e0bd490",
   "metadata": {},
   "outputs": [
    {
     "data": {
      "text/plain": [
       "True"
      ]
     },
     "execution_count": 174,
     "metadata": {},
     "output_type": "execute_result"
    }
   ],
   "source": [
    "is_valid_username('hellothd343fsere')"
   ]
  },
  {
   "cell_type": "markdown",
   "id": "0a90cdee",
   "metadata": {},
   "source": [
    "# Write a regular expression to capture phone numbers. It should match all of the following:\n",
    "\n",
    "    (210) 867 5309\n",
    "    +1 210.867.5309\n",
    "    867-5309\n",
    "    210-867-5309\n"
   ]
  },
  {
   "cell_type": "code",
   "execution_count": 175,
   "id": "fed47ee5",
   "metadata": {},
   "outputs": [],
   "source": [
    "phone1 = '(210) 867 5309'\n",
    "phone2 = '+1 210.867.5309'\n",
    "phone3 = '867-5309'\n",
    "phone4 = '210-867-5309'"
   ]
  },
  {
   "cell_type": "code",
   "execution_count": 180,
   "id": "232b2cb0",
   "metadata": {},
   "outputs": [
    {
     "data": {
      "text/html": [
       "<div>\n",
       "<style scoped>\n",
       "    .dataframe tbody tr th:only-of-type {\n",
       "        vertical-align: middle;\n",
       "    }\n",
       "\n",
       "    .dataframe tbody tr th {\n",
       "        vertical-align: top;\n",
       "    }\n",
       "\n",
       "    .dataframe thead th {\n",
       "        text-align: right;\n",
       "    }\n",
       "</style>\n",
       "<table border=\"1\" class=\"dataframe\">\n",
       "  <thead>\n",
       "    <tr style=\"text-align: right;\">\n",
       "      <th></th>\n",
       "      <th>country_code</th>\n",
       "      <th>area_code</th>\n",
       "      <th>first_three</th>\n",
       "      <th>last_four</th>\n",
       "    </tr>\n",
       "  </thead>\n",
       "  <tbody>\n",
       "  </tbody>\n",
       "</table>\n",
       "</div>"
      ],
      "text/plain": [
       "Empty DataFrame\n",
       "Columns: [country_code, area_code, first_three, last_four]\n",
       "Index: []"
      ]
     },
     "execution_count": 180,
     "metadata": {},
     "output_type": "execute_result"
    }
   ],
   "source": [
    "numbers_df = pd.DataFrame(columns = ['country_code', 'area_code', 'first_three', 'last_four'])\n",
    "numbers_df"
   ]
  },
  {
   "cell_type": "code",
   "execution_count": 233,
   "id": "69a8adac",
   "metadata": {},
   "outputs": [
    {
     "data": {
      "text/plain": [
       "'+1'"
      ]
     },
     "execution_count": 233,
     "metadata": {},
     "output_type": "execute_result"
    }
   ],
   "source": [
    "# capture country code\n",
    "country = re.search(r'\\+[0-9]', phone2)\n",
    "country[0]"
   ]
  },
  {
   "cell_type": "code",
   "execution_count": 237,
   "id": "66ca605b",
   "metadata": {},
   "outputs": [
    {
     "data": {
      "text/plain": [
       "'210'"
      ]
     },
     "execution_count": 237,
     "metadata": {},
     "output_type": "execute_result"
    }
   ],
   "source": [
    "# capture area_code\n",
    "area = re.search(r'[0-9]{3}', phone2)\n",
    "area[0]"
   ]
  },
  {
   "cell_type": "code",
   "execution_count": 230,
   "id": "71a55344",
   "metadata": {},
   "outputs": [
    {
     "data": {
      "text/plain": [
       "<re.Match object; span=(3, 6), match='210'>"
      ]
     },
     "execution_count": 230,
     "metadata": {},
     "output_type": "execute_result"
    }
   ],
   "source": [
    "# get first_three\n",
    "re.search(r'[0-9]{3}', phone2)"
   ]
  },
  {
   "cell_type": "code",
   "execution_count": 231,
   "id": "0025b5b8",
   "metadata": {},
   "outputs": [
    {
     "data": {
      "text/plain": [
       "<re.Match object; span=(11, 15), match='5309'>"
      ]
     },
     "execution_count": 231,
     "metadata": {},
     "output_type": "execute_result"
    }
   ],
   "source": [
    "# get last_four\n",
    "re.search(r'[0-9]{4}', phone2)"
   ]
  },
  {
   "cell_type": "code",
   "execution_count": 238,
   "id": "20df0dd7",
   "metadata": {},
   "outputs": [],
   "source": [
    "chop = re.compile(r\"\"\"\n",
    "(?P<country_code>\\+[0-9])?(\\D*)?\n",
    "(?P<area_code>[0-9]{3})?(\\D*)?\n",
    "(?P<first_three>[0-9]{3})(\\D)?\n",
    "(?P<last_four>[0-9]{4})\n",
    "\"\"\", re.VERBOSE)"
   ]
  },
  {
   "cell_type": "code",
   "execution_count": 241,
   "id": "38b6ce83",
   "metadata": {},
   "outputs": [
    {
     "data": {
      "text/plain": [
       "{'country_code': None,\n",
       " 'area_code': '210',\n",
       " 'first_three': '867',\n",
       " 'last_four': '5309'}"
      ]
     },
     "execution_count": 241,
     "metadata": {},
     "output_type": "execute_result"
    }
   ],
   "source": [
    "re.search(chop, phone1).groupdict()"
   ]
  },
  {
   "cell_type": "code",
   "execution_count": 249,
   "id": "348dfd18",
   "metadata": {},
   "outputs": [],
   "source": [
    "numbers_df.loc[len(numbers_df)] = re.search(chop, phone4).groupdict()"
   ]
  },
  {
   "cell_type": "code",
   "execution_count": 250,
   "id": "9728f3c0",
   "metadata": {},
   "outputs": [
    {
     "data": {
      "text/html": [
       "<div>\n",
       "<style scoped>\n",
       "    .dataframe tbody tr th:only-of-type {\n",
       "        vertical-align: middle;\n",
       "    }\n",
       "\n",
       "    .dataframe tbody tr th {\n",
       "        vertical-align: top;\n",
       "    }\n",
       "\n",
       "    .dataframe thead th {\n",
       "        text-align: right;\n",
       "    }\n",
       "</style>\n",
       "<table border=\"1\" class=\"dataframe\">\n",
       "  <thead>\n",
       "    <tr style=\"text-align: right;\">\n",
       "      <th></th>\n",
       "      <th>country_code</th>\n",
       "      <th>area_code</th>\n",
       "      <th>first_three</th>\n",
       "      <th>last_four</th>\n",
       "    </tr>\n",
       "  </thead>\n",
       "  <tbody>\n",
       "    <tr>\n",
       "      <th>0</th>\n",
       "      <td>None</td>\n",
       "      <td>210</td>\n",
       "      <td>867</td>\n",
       "      <td>5309</td>\n",
       "    </tr>\n",
       "    <tr>\n",
       "      <th>1</th>\n",
       "      <td>+1</td>\n",
       "      <td>210</td>\n",
       "      <td>867</td>\n",
       "      <td>5309</td>\n",
       "    </tr>\n",
       "    <tr>\n",
       "      <th>2</th>\n",
       "      <td>None</td>\n",
       "      <td>None</td>\n",
       "      <td>867</td>\n",
       "      <td>5309</td>\n",
       "    </tr>\n",
       "    <tr>\n",
       "      <th>3</th>\n",
       "      <td>None</td>\n",
       "      <td>210</td>\n",
       "      <td>867</td>\n",
       "      <td>5309</td>\n",
       "    </tr>\n",
       "  </tbody>\n",
       "</table>\n",
       "</div>"
      ],
      "text/plain": [
       "  country_code area_code first_three last_four\n",
       "0         None       210         867      5309\n",
       "1           +1       210         867      5309\n",
       "2         None      None         867      5309\n",
       "3         None       210         867      5309"
      ]
     },
     "execution_count": 250,
     "metadata": {},
     "output_type": "execute_result"
    }
   ],
   "source": [
    "numbers_df"
   ]
  },
  {
   "cell_type": "markdown",
   "id": "7646c43a",
   "metadata": {},
   "source": [
    "# Use regular expressions to convert the dates below to the standardized year-month-day format."
   ]
  },
  {
   "cell_type": "code",
   "execution_count": 87,
   "id": "54bf4e1b",
   "metadata": {},
   "outputs": [],
   "source": [
    "datelist = [\n",
    "'02/04/19',\n",
    "'02/05/19',\n",
    "'02/06/19',\n",
    "'02/07/19',\n",
    "'02/08/19',\n",
    "'02/09/19',\n",
    "'02/10/19']"
   ]
  },
  {
   "cell_type": "code",
   "execution_count": 89,
   "id": "8687890b",
   "metadata": {},
   "outputs": [],
   "source": [
    "def convert_date(date):\n",
    "    regexp = r'\\d{2}'\n",
    "    dates = re.findall(regexp, date)\n",
    "    dates.reverse()\n",
    "    dates[0] = '20' + dates[0]\n",
    "    dash = '-'\n",
    "    return dash.join(dates)"
   ]
  },
  {
   "cell_type": "code",
   "execution_count": 93,
   "id": "5a9222a1",
   "metadata": {},
   "outputs": [
    {
     "name": "stdout",
     "output_type": "stream",
     "text": [
      "2019-04-02\n",
      "2019-05-02\n",
      "2019-06-02\n",
      "2019-07-02\n",
      "2019-08-02\n",
      "2019-09-02\n",
      "2019-10-02\n"
     ]
    },
    {
     "data": {
      "text/plain": [
       "[None, None, None, None, None, None, None]"
      ]
     },
     "execution_count": 93,
     "metadata": {},
     "output_type": "execute_result"
    }
   ],
   "source": [
    "[print(convert_date(date)) for date in datelist]"
   ]
  },
  {
   "cell_type": "markdown",
   "id": "8ba64855",
   "metadata": {},
   "source": [
    "# Write a regex to extract the various parts of these logfile lines:"
   ]
  },
  {
   "cell_type": "code",
   "execution_count": 98,
   "id": "3d7c91cf",
   "metadata": {},
   "outputs": [],
   "source": [
    "logfile = ['GET /api/v1/sales?page=86 [16/Apr/2019:193452+0000] HTTP/1.1 {200} 510348 \"python-requests/2.21.0\" 97.105.19.58',\n",
    "'POST /users_accounts/file-upload [16/Apr/2019:193452+0000] HTTP/1.1 {201} 42 \"User-Agent: Mozilla/5.0 (X11; Fedora; Fedora; Linux x86_64) AppleWebKit/537.36 (KHTML, like Gecko) Chrome/73.0.3683.86 Safari/537.36\" 97.105.19.58',\n",
    "'GET /api/v1/items?page=3 [16/Apr/2019:193453+0000] HTTP/1.1 {429} 3561 \"python-requests/2.21.0\" 97.105.19.58']\n"
   ]
  },
  {
   "cell_type": "code",
   "execution_count": 215,
   "id": "2dc85095",
   "metadata": {},
   "outputs": [
    {
     "name": "stdout",
     "output_type": "stream",
     "text": [
      "[('GET', '/api/v1/sales?page=86', '16/Apr/2019:193452+0000', 'HTTP/1.1', '{200}', '510348', '\"python-requests/2.21.0\"', '97.105.19.58')]\n",
      "[('POST', '/users_accounts/file-upload', '16/Apr/2019:193452+0000', 'HTTP/1.1', '{201}', '42', '\"User-Agent: Mozilla/5.0 (X11; Fedora; Fedora; Linux x86_64) AppleWebKit/537.36 (KHTML, like Gecko) Chrome/73.0.3683.86 Safari/537.36\"', '97.105.19.58')]\n",
      "[('GET', '/api/v1/items?page=3', '16/Apr/2019:193453+0000', 'HTTP/1.1', '{429}', '3561', '\"python-requests/2.21.0\"', '97.105.19.58')]\n"
     ]
    }
   ],
   "source": [
    "regexp = r'(?P<method>[A-Z]+)\\s(?P<path>.+?)\\s\\[(?P<date>.+?)\\]\\s(?P<version>.+?)\\s(?P<status>{\\d+})\\s(?P<bytes_sent>\\d+)\\s(?P<user_agent>\".+?\")\\s(?P<ip>.+)'\n",
    "\n",
    "re.search(regexp, subject)\n",
    "for log in logfile:\n",
    "    print(re.findall(regexp, log))"
   ]
  },
  {
   "cell_type": "code",
   "execution_count": 221,
   "id": "a665459e",
   "metadata": {},
   "outputs": [
    {
     "data": {
      "text/plain": [
       "re.compile(r'\\n(?P<method>[A-Z]+)\\s\\n(?P<path>.+?)\\s\\[\\n(?P<date>.+?)\\]\\s\\n(?P<version>.+?)\\s\\n(?P<status>{\\d+})\\s\\n(?P<bytes_sent>\\d+)\\s\"\\n(?P<user_agent>.+?)\"\\s\\n(?P<ip>.+)\\n',\n",
       "           re.UNICODE|re.VERBOSE)"
      ]
     },
     "execution_count": 221,
     "metadata": {},
     "output_type": "execute_result"
    }
   ],
   "source": [
    "pattern = re.compile(r\"\"\"\n",
    "(?P<method>[A-Z]+)\\s\n",
    "(?P<path>.+?)\\s\\[\n",
    "(?P<date>.+?)\\]\\s\n",
    "(?P<version>.+?)\\s\n",
    "(?P<status>{\\d+})\\s\n",
    "(?P<bytes_sent>\\d+)\\s\"\n",
    "(?P<user_agent>.+?)\"\\s\n",
    "(?P<ip>.+)\n",
    "\"\"\", re.VERBOSE)\n",
    "\n",
    "pattern"
   ]
  },
  {
   "cell_type": "code",
   "execution_count": 222,
   "id": "302d35aa",
   "metadata": {},
   "outputs": [
    {
     "data": {
      "text/plain": [
       "[{'method': 'GET',\n",
       "  'path': '/api/v1/sales?page=86',\n",
       "  'date': '16/Apr/2019:193452+0000',\n",
       "  'version': 'HTTP/1.1',\n",
       "  'status': '{200}',\n",
       "  'bytes_sent': '510348',\n",
       "  'user_agent': 'python-requests/2.21.0',\n",
       "  'ip': '97.105.19.58'},\n",
       " {'method': 'POST',\n",
       "  'path': '/users_accounts/file-upload',\n",
       "  'date': '16/Apr/2019:193452+0000',\n",
       "  'version': 'HTTP/1.1',\n",
       "  'status': '{201}',\n",
       "  'bytes_sent': '42',\n",
       "  'user_agent': 'User-Agent: Mozilla/5.0 (X11; Fedora; Fedora; Linux x86_64) AppleWebKit/537.36 (KHTML, like Gecko) Chrome/73.0.3683.86 Safari/537.36',\n",
       "  'ip': '97.105.19.58'},\n",
       " {'method': 'GET',\n",
       "  'path': '/api/v1/items?page=3',\n",
       "  'date': '16/Apr/2019:193453+0000',\n",
       "  'version': 'HTTP/1.1',\n",
       "  'status': '{429}',\n",
       "  'bytes_sent': '3561',\n",
       "  'user_agent': 'python-requests/2.21.0',\n",
       "  'ip': '97.105.19.58'}]"
      ]
     },
     "execution_count": 222,
     "metadata": {},
     "output_type": "execute_result"
    }
   ],
   "source": [
    "extracts = [re.search(pattern,log).groupdict() for log in logfile]\n",
    "extracts"
   ]
  },
  {
   "cell_type": "code",
   "execution_count": 223,
   "id": "8ad05162",
   "metadata": {},
   "outputs": [
    {
     "data": {
      "text/html": [
       "<div>\n",
       "<style scoped>\n",
       "    .dataframe tbody tr th:only-of-type {\n",
       "        vertical-align: middle;\n",
       "    }\n",
       "\n",
       "    .dataframe tbody tr th {\n",
       "        vertical-align: top;\n",
       "    }\n",
       "\n",
       "    .dataframe thead th {\n",
       "        text-align: right;\n",
       "    }\n",
       "</style>\n",
       "<table border=\"1\" class=\"dataframe\">\n",
       "  <thead>\n",
       "    <tr style=\"text-align: right;\">\n",
       "      <th></th>\n",
       "      <th>method</th>\n",
       "      <th>path</th>\n",
       "      <th>date</th>\n",
       "      <th>version</th>\n",
       "      <th>status</th>\n",
       "      <th>bytes_sent</th>\n",
       "      <th>user_agent</th>\n",
       "      <th>ip</th>\n",
       "    </tr>\n",
       "  </thead>\n",
       "  <tbody>\n",
       "    <tr>\n",
       "      <th>0</th>\n",
       "      <td>GET</td>\n",
       "      <td>/api/v1/sales?page=86</td>\n",
       "      <td>16/Apr/2019:193452+0000</td>\n",
       "      <td>HTTP/1.1</td>\n",
       "      <td>{200}</td>\n",
       "      <td>510348</td>\n",
       "      <td>python-requests/2.21.0</td>\n",
       "      <td>97.105.19.58</td>\n",
       "    </tr>\n",
       "    <tr>\n",
       "      <th>1</th>\n",
       "      <td>POST</td>\n",
       "      <td>/users_accounts/file-upload</td>\n",
       "      <td>16/Apr/2019:193452+0000</td>\n",
       "      <td>HTTP/1.1</td>\n",
       "      <td>{201}</td>\n",
       "      <td>42</td>\n",
       "      <td>User-Agent: Mozilla/5.0 (X11; Fedora; Fedora; ...</td>\n",
       "      <td>97.105.19.58</td>\n",
       "    </tr>\n",
       "    <tr>\n",
       "      <th>2</th>\n",
       "      <td>GET</td>\n",
       "      <td>/api/v1/items?page=3</td>\n",
       "      <td>16/Apr/2019:193453+0000</td>\n",
       "      <td>HTTP/1.1</td>\n",
       "      <td>{429}</td>\n",
       "      <td>3561</td>\n",
       "      <td>python-requests/2.21.0</td>\n",
       "      <td>97.105.19.58</td>\n",
       "    </tr>\n",
       "  </tbody>\n",
       "</table>\n",
       "</div>"
      ],
      "text/plain": [
       "  method                         path                     date   version  \\\n",
       "0    GET        /api/v1/sales?page=86  16/Apr/2019:193452+0000  HTTP/1.1   \n",
       "1   POST  /users_accounts/file-upload  16/Apr/2019:193452+0000  HTTP/1.1   \n",
       "2    GET         /api/v1/items?page=3  16/Apr/2019:193453+0000  HTTP/1.1   \n",
       "\n",
       "  status bytes_sent                                         user_agent  \\\n",
       "0  {200}     510348                             python-requests/2.21.0   \n",
       "1  {201}         42  User-Agent: Mozilla/5.0 (X11; Fedora; Fedora; ...   \n",
       "2  {429}       3561                             python-requests/2.21.0   \n",
       "\n",
       "             ip  \n",
       "0  97.105.19.58  \n",
       "1  97.105.19.58  \n",
       "2  97.105.19.58  "
      ]
     },
     "execution_count": 223,
     "metadata": {},
     "output_type": "execute_result"
    }
   ],
   "source": [
    "pd.DataFrame(extracts)"
   ]
  },
  {
   "cell_type": "code",
   "execution_count": null,
   "id": "cc24c568",
   "metadata": {},
   "outputs": [],
   "source": []
  },
  {
   "cell_type": "code",
   "execution_count": null,
   "id": "48b75468",
   "metadata": {},
   "outputs": [],
   "source": []
  }
 ],
 "metadata": {
  "kernelspec": {
   "display_name": "Python 3 (ipykernel)",
   "language": "python",
   "name": "python3"
  },
  "language_info": {
   "codemirror_mode": {
    "name": "ipython",
    "version": 3
   },
   "file_extension": ".py",
   "mimetype": "text/x-python",
   "name": "python",
   "nbconvert_exporter": "python",
   "pygments_lexer": "ipython3",
   "version": "3.9.12"
  }
 },
 "nbformat": 4,
 "nbformat_minor": 5
}
