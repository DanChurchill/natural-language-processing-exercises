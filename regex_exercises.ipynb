{
 "cells": [
  {
   "cell_type": "markdown",
   "id": "ef3d9364",
   "metadata": {},
   "source": [
    "# Write a function named is_vowel. It should accept a string as input and use a regular expression to determine if the passed string is a vowel. While not explicity mentioned in the lesson, you can treat the result of re.search as a boolean value that indicates whether or not the regular expression matches the given string."
   ]
  },
  {
   "cell_type": "code",
   "execution_count": 177,
   "id": "a5be7fe6",
   "metadata": {},
   "outputs": [],
   "source": [
    "import re\n",
    "import pandas as pd"
   ]
  },
  {
   "cell_type": "code",
   "execution_count": 7,
   "id": "315ad885",
   "metadata": {},
   "outputs": [
    {
     "data": {
      "text/plain": [
       "True"
      ]
     },
     "execution_count": 7,
     "metadata": {},
     "output_type": "execute_result"
    }
   ],
   "source": [
    "bool(re.search(r'[aeiou]', 'mary had a little lamb'))"
   ]
  },
  {
   "cell_type": "code",
   "execution_count": 8,
   "id": "8120737a",
   "metadata": {},
   "outputs": [],
   "source": [
    "def is_vowel(sample):\n",
    "    return bool(re.search(r'[aeiou]', sample))"
   ]
  },
  {
   "cell_type": "code",
   "execution_count": 17,
   "id": "924aa385",
   "metadata": {},
   "outputs": [
    {
     "data": {
      "text/plain": [
       "True"
      ]
     },
     "execution_count": 17,
     "metadata": {},
     "output_type": "execute_result"
    }
   ],
   "source": [
    "is_vowel('dog')"
   ]
  },
  {
   "cell_type": "markdown",
   "id": "6c5ebd93",
   "metadata": {},
   "source": [
    "# Write a function named is_valid_username that accepts a string as input. A valid username starts with a lowercase letter, and only consists of lowercase letters, numbers, or the _ character. It should also be no longer than 32 characters. The function should return either True or False depending on whether the passed string is a valid username."
   ]
  },
  {
   "cell_type": "code",
   "execution_count": 124,
   "id": "14436842",
   "metadata": {},
   "outputs": [
    {
     "data": {
      "text/plain": [
       "False"
      ]
     },
     "execution_count": 124,
     "metadata": {},
     "output_type": "execute_result"
    }
   ],
   "source": [
    "# test for first char as lowercase letter.  True = valid\n",
    "bool(re.search(r'^[a-z]', 'Gis  0 is y usJKJKername'))"
   ]
  },
  {
   "cell_type": "code",
   "execution_count": 170,
   "id": "2becae87",
   "metadata": {},
   "outputs": [],
   "source": [
    "def is_valid_username(sample):\n",
    "    return bool(re.search(r'^[a-z][a-z0-9_]{,31}$', sample))"
   ]
  },
  {
   "cell_type": "code",
   "execution_count": 174,
   "id": "7e0bd490",
   "metadata": {},
   "outputs": [
    {
     "data": {
      "text/plain": [
       "True"
      ]
     },
     "execution_count": 174,
     "metadata": {},
     "output_type": "execute_result"
    }
   ],
   "source": [
    "is_valid_username('hellothd343fsere')"
   ]
  },
  {
   "cell_type": "markdown",
   "id": "0a90cdee",
   "metadata": {},
   "source": [
    "# Write a regular expression to capture phone numbers. It should match all of the following:\n",
    "\n",
    "    (210) 867 5309\n",
    "    +1 210.867.5309\n",
    "    867-5309\n",
    "    210-867-5309\n"
   ]
  },
  {
   "cell_type": "code",
   "execution_count": 175,
   "id": "fed47ee5",
   "metadata": {},
   "outputs": [],
   "source": [
    "phone1 = '(210) 867 5309'\n",
    "phone2 = '+1 210.867.5309'\n",
    "phone3 = '867-5309'\n",
    "phone4 = '210-867-5309'"
   ]
  },
  {
   "cell_type": "code",
   "execution_count": 180,
   "id": "232b2cb0",
   "metadata": {},
   "outputs": [
    {
     "data": {
      "text/html": [
       "<div>\n",
       "<style scoped>\n",
       "    .dataframe tbody tr th:only-of-type {\n",
       "        vertical-align: middle;\n",
       "    }\n",
       "\n",
       "    .dataframe tbody tr th {\n",
       "        vertical-align: top;\n",
       "    }\n",
       "\n",
       "    .dataframe thead th {\n",
       "        text-align: right;\n",
       "    }\n",
       "</style>\n",
       "<table border=\"1\" class=\"dataframe\">\n",
       "  <thead>\n",
       "    <tr style=\"text-align: right;\">\n",
       "      <th></th>\n",
       "      <th>country_code</th>\n",
       "      <th>area_code</th>\n",
       "      <th>first_three</th>\n",
       "      <th>last_four</th>\n",
       "    </tr>\n",
       "  </thead>\n",
       "  <tbody>\n",
       "  </tbody>\n",
       "</table>\n",
       "</div>"
      ],
      "text/plain": [
       "Empty DataFrame\n",
       "Columns: [country_code, area_code, first_three, last_four]\n",
       "Index: []"
      ]
     },
     "execution_count": 180,
     "metadata": {},
     "output_type": "execute_result"
    }
   ],
   "source": [
    "numbers_df = pd.DataFrame(columns = ['country_code', 'area_code', 'first_three', 'last_four'])\n",
    "numbers_df"
   ]
  },
  {
   "cell_type": "code",
   "execution_count": 233,
   "id": "69a8adac",
   "metadata": {},
   "outputs": [
    {
     "data": {
      "text/plain": [
       "'+1'"
      ]
     },
     "execution_count": 233,
     "metadata": {},
     "output_type": "execute_result"
    }
   ],
   "source": [
    "# capture country code\n",
    "country = re.search(r'\\+[0-9]', phone2)\n",
    "country[0]"
   ]
  },
  {
   "cell_type": "code",
   "execution_count": 237,
   "id": "66ca605b",
   "metadata": {},
   "outputs": [
    {
     "data": {
      "text/plain": [
       "'210'"
      ]
     },
     "execution_count": 237,
     "metadata": {},
     "output_type": "execute_result"
    }
   ],
   "source": [
    "# capture area_code\n",
    "area = re.search(r'[0-9]{3}', phone2)\n",
    "area[0]"
   ]
  },
  {
   "cell_type": "code",
   "execution_count": 230,
   "id": "71a55344",
   "metadata": {},
   "outputs": [
    {
     "data": {
      "text/plain": [
       "<re.Match object; span=(3, 6), match='210'>"
      ]
     },
     "execution_count": 230,
     "metadata": {},
     "output_type": "execute_result"
    }
   ],
   "source": [
    "# get first_three\n",
    "re.search(r'[0-9]{3}', phone2)"
   ]
  },
  {
   "cell_type": "code",
   "execution_count": 231,
   "id": "0025b5b8",
   "metadata": {},
   "outputs": [
    {
     "data": {
      "text/plain": [
       "<re.Match object; span=(11, 15), match='5309'>"
      ]
     },
     "execution_count": 231,
     "metadata": {},
     "output_type": "execute_result"
    }
   ],
   "source": [
    "# get last_four\n",
    "re.search(r'[0-9]{4}', phone2)"
   ]
  },
  {
   "cell_type": "code",
   "execution_count": 238,
   "id": "20df0dd7",
   "metadata": {},
   "outputs": [],
   "source": [
    "chop = re.compile(r\"\"\"\n",
    "(?P<country_code>\\+[0-9])?(\\D*)?\n",
    "(?P<area_code>[0-9]{3})?(\\D*)?\n",
    "(?P<first_three>[0-9]{3})(\\D)?\n",
    "(?P<last_four>[0-9]{4})\n",
    "\"\"\", re.VERBOSE)"
   ]
  },
  {
   "cell_type": "code",
   "execution_count": 241,
   "id": "38b6ce83",
   "metadata": {},
   "outputs": [
    {
     "data": {
      "text/plain": [
       "{'country_code': None,\n",
       " 'area_code': '210',\n",
       " 'first_three': '867',\n",
       " 'last_four': '5309'}"
      ]
     },
     "execution_count": 241,
     "metadata": {},
     "output_type": "execute_result"
    }
   ],
   "source": [
    "re.search(chop, phone1).groupdict()"
   ]
  },
  {
   "cell_type": "code",
   "execution_count": 249,
   "id": "348dfd18",
   "metadata": {},
   "outputs": [],
   "source": [
    "numbers_df.loc[len(numbers_df)] = re.search(chop, phone4).groupdict()"
   ]
  },
  {
   "cell_type": "code",
   "execution_count": 250,
   "id": "9728f3c0",
   "metadata": {},
   "outputs": [
    {
     "data": {
      "text/html": [
       "<div>\n",
       "<style scoped>\n",
       "    .dataframe tbody tr th:only-of-type {\n",
       "        vertical-align: middle;\n",
       "    }\n",
       "\n",
       "    .dataframe tbody tr th {\n",
       "        vertical-align: top;\n",
       "    }\n",
       "\n",
       "    .dataframe thead th {\n",
       "        text-align: right;\n",
       "    }\n",
       "</style>\n",
       "<table border=\"1\" class=\"dataframe\">\n",
       "  <thead>\n",
       "    <tr style=\"text-align: right;\">\n",
       "      <th></th>\n",
       "      <th>country_code</th>\n",
       "      <th>area_code</th>\n",
       "      <th>first_three</th>\n",
       "      <th>last_four</th>\n",
       "    </tr>\n",
       "  </thead>\n",
       "  <tbody>\n",
       "    <tr>\n",
       "      <th>0</th>\n",
       "      <td>None</td>\n",
       "      <td>210</td>\n",
       "      <td>867</td>\n",
       "      <td>5309</td>\n",
       "    </tr>\n",
       "    <tr>\n",
       "      <th>1</th>\n",
       "      <td>+1</td>\n",
       "      <td>210</td>\n",
       "      <td>867</td>\n",
       "      <td>5309</td>\n",
       "    </tr>\n",
       "    <tr>\n",
       "      <th>2</th>\n",
       "      <td>None</td>\n",
       "      <td>None</td>\n",
       "      <td>867</td>\n",
       "      <td>5309</td>\n",
       "    </tr>\n",
       "    <tr>\n",
       "      <th>3</th>\n",
       "      <td>None</td>\n",
       "      <td>210</td>\n",
       "      <td>867</td>\n",
       "      <td>5309</td>\n",
       "    </tr>\n",
       "  </tbody>\n",
       "</table>\n",
       "</div>"
      ],
      "text/plain": [
       "  country_code area_code first_three last_four\n",
       "0         None       210         867      5309\n",
       "1           +1       210         867      5309\n",
       "2         None      None         867      5309\n",
       "3         None       210         867      5309"
      ]
     },
     "execution_count": 250,
     "metadata": {},
     "output_type": "execute_result"
    }
   ],
   "source": [
    "numbers_df"
   ]
  },
  {
   "cell_type": "code",
   "execution_count": null,
   "id": "cc56ca7c",
   "metadata": {},
   "outputs": [],
   "source": []
  }
 ],
 "metadata": {
  "kernelspec": {
   "display_name": "Python 3 (ipykernel)",
   "language": "python",
   "name": "python3"
  },
  "language_info": {
   "codemirror_mode": {
    "name": "ipython",
    "version": 3
   },
   "file_extension": ".py",
   "mimetype": "text/x-python",
   "name": "python",
   "nbconvert_exporter": "python",
   "pygments_lexer": "ipython3",
   "version": "3.9.12"
  }
 },
 "nbformat": 4,
 "nbformat_minor": 5
}
