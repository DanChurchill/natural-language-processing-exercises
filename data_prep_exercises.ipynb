{
 "cells": [
  {
   "cell_type": "code",
   "execution_count": 1,
   "id": "ce00935c",
   "metadata": {},
   "outputs": [],
   "source": [
    "import pandas as pd\n",
    "import numpy as np\n",
    "import unicodedata\n",
    "import re\n",
    "import nltk\n",
    "from nltk.corpus import stopwords\n",
    "import prepare\n",
    "import acquire\n",
    "\n",
    "from requests import get\n",
    "from bs4 import BeautifulSoup\n",
    "import os\n"
   ]
  },
  {
   "cell_type": "markdown",
   "id": "3d67c38b",
   "metadata": {},
   "source": [
    "# Define a function named basic_clean. It should take in a string and apply some basic text cleaning to it:\n",
    "\n",
    "Lowercase everything\n",
    "Normalize unicode characters\n",
    "Replace anything that is not a letter, number, whitespace or a single quote.\n",
    "Define a function named tokenize. It should take in a string and tokenize all the words in the string.\n",
    "\n",
    "Define a function named stem. It should accept some text and return the text after applying stemming to all the words.\n",
    "\n",
    "Define a function named lemmatize. It should accept some text and return the text after applying lemmatization to each word.\n",
    "\n",
    "Define a function named remove_stopwords. It should accept some text and return the text after removing all the stopwords.\n",
    "\n",
    "This function should define two optional parameters, extra_words and exclude_words. These parameters should define any additional stop words to include, and any words that we don't want to remove"
   ]
  },
  {
   "cell_type": "code",
   "execution_count": 2,
   "id": "e5542876",
   "metadata": {},
   "outputs": [],
   "source": [
    "def basic_clean(text):\n",
    "    text = text.lower()\n",
    "    text = unicodedata.normalize('NFKD', text).encode('ascii', 'ignore').decode('utf-8')\n",
    "    text = re.sub(r'[^a-z0-9\\'\\s]', '', text)\n",
    "    return text"
   ]
  },
  {
   "cell_type": "code",
   "execution_count": 3,
   "id": "7f7e0ba8",
   "metadata": {},
   "outputs": [],
   "source": [
    "def tokenize(text):\n",
    "    tokenize = nltk.tokenize.ToktokTokenizer()\n",
    "    text = tokenize.tokenize(text, return_str=True)\n",
    "    return text"
   ]
  },
  {
   "cell_type": "code",
   "execution_count": 4,
   "id": "1f8627fd",
   "metadata": {},
   "outputs": [],
   "source": [
    "def stem(text):\n",
    "    ps = nltk.porter.PorterStemmer()\n",
    "    stems = [ps.stem(word) for word in text.split()]\n",
    "    stemmed = ' '.join(stems)\n",
    "    return stemmed    "
   ]
  },
  {
   "cell_type": "code",
   "execution_count": 5,
   "id": "f2933f13",
   "metadata": {},
   "outputs": [],
   "source": [
    "def lemmatize(text):\n",
    "    wnl = nltk.stem.WordNetLemmatizer()\n",
    "    lems = [wnl.lemmatize(word) for word in text.split()]\n",
    "    lemmatized = ' '.join(lems)\n",
    "    return lemmatized"
   ]
  },
  {
   "cell_type": "code",
   "execution_count": 16,
   "id": "004154fa",
   "metadata": {},
   "outputs": [],
   "source": [
    "def remove_stopwords(text, extra_words=[], exclude_words=[]):\n",
    "    stopwords_ls = stopwords.words('english')\n",
    "    stopwords_ls = stopwords_ls + extra_words\n",
    "    [stopwords_ls.remove(word) for word in exclude_words]\n",
    "    words = text.split()\n",
    "    filtered_words = [word for word in words if word not in stopwords_ls]\n",
    "    stopped = ' '.join(filtered_words)\n",
    "    return stopped"
   ]
  },
  {
   "cell_type": "code",
   "execution_count": 7,
   "id": "2943ce95",
   "metadata": {},
   "outputs": [
    {
     "data": {
      "text/plain": [
       "\"Paul Erdős and George Pólya were influential Hungarian mathematicians who contributed a lot to the field. Erdős's name contains the Hungarian letter 'ő' ('o' with double acute accent), but is often incorrectly written as Erdos or Erdös either by mistake or out of typographical necessity\""
      ]
     },
     "execution_count": 7,
     "metadata": {},
     "output_type": "execute_result"
    }
   ],
   "source": [
    "original = \"Paul Erdős and George Pólya were influential Hungarian mathematicians who contributed \\\n",
    "a lot to the field. Erdős's name contains the Hungarian letter 'ő' ('o' with double acute accent), \\\n",
    "but is often incorrectly written as Erdos or Erdös either by mistake or out of typographical necessity\"\n",
    "original"
   ]
  },
  {
   "cell_type": "code",
   "execution_count": 9,
   "id": "05209405",
   "metadata": {},
   "outputs": [
    {
     "data": {
      "text/plain": [
       "\"paul erdos and george polya were influential hungarian mathematicians who contributed a lot to the field erdos's name contains the hungarian letter 'o' 'o' with double acute accent but is often incorrectly written as erdos or erdos either by mistake or out of typographical necessity\""
      ]
     },
     "execution_count": 9,
     "metadata": {},
     "output_type": "execute_result"
    }
   ],
   "source": [
    "clean = basic_clean(original)\n",
    "clean"
   ]
  },
  {
   "cell_type": "code",
   "execution_count": 11,
   "id": "edf95880",
   "metadata": {},
   "outputs": [
    {
     "data": {
      "text/plain": [
       "\"paul erdos and george polya were influential hungarian mathematicians who contributed a lot to the field erdos ' s name contains the hungarian letter ' o ' ' o ' with double acute accent but is often incorrectly written as erdos or erdos either by mistake or out of typographical necessity\""
      ]
     },
     "execution_count": 11,
     "metadata": {},
     "output_type": "execute_result"
    }
   ],
   "source": [
    "tokened = tokenize(clean)\n",
    "tokened"
   ]
  },
  {
   "cell_type": "code",
   "execution_count": 12,
   "id": "bb2828f1",
   "metadata": {},
   "outputs": [
    {
     "data": {
      "text/plain": [
       "\"paul erdo and georg polya were influenti hungarian mathematician who contribut a lot to the field erdo ' s name contain the hungarian letter ' o ' ' o ' with doubl acut accent but is often incorrectli written as erdo or erdo either by mistak or out of typograph necess\""
      ]
     },
     "execution_count": 12,
     "metadata": {},
     "output_type": "execute_result"
    }
   ],
   "source": [
    "stemmed = stem(tokened)\n",
    "stemmed"
   ]
  },
  {
   "cell_type": "code",
   "execution_count": 14,
   "id": "dbe46953",
   "metadata": {},
   "outputs": [
    {
     "data": {
      "text/plain": [
       "\"paul erdos and george polya were influential hungarian mathematician who contributed a lot to the field erdos ' s name contains the hungarian letter ' o ' ' o ' with double acute accent but is often incorrectly written a erdos or erdos either by mistake or out of typographical necessity\""
      ]
     },
     "execution_count": 14,
     "metadata": {},
     "output_type": "execute_result"
    }
   ],
   "source": [
    "lemmatized = lemmatize(tokened)\n",
    "lemmatized"
   ]
  },
  {
   "cell_type": "code",
   "execution_count": 18,
   "id": "b551ff5f",
   "metadata": {},
   "outputs": [
    {
     "data": {
      "text/plain": [
       "\"paul erdos george polya influential hungarian mathematician contributed lot field erdos ' name contains hungarian letter ' ' ' ' double acute accent often incorrectly written erdos erdos either mistake typographical necessity\""
      ]
     },
     "execution_count": 18,
     "metadata": {},
     "output_type": "execute_result"
    }
   ],
   "source": [
    "remove_stopwords(lemmatized)"
   ]
  },
  {
   "cell_type": "code",
   "execution_count": 23,
   "id": "8209eb2a",
   "metadata": {},
   "outputs": [],
   "source": [
    "extra_words=['double']\n",
    "exclude_words=['the', 'o']"
   ]
  },
  {
   "cell_type": "code",
   "execution_count": 24,
   "id": "72c27151",
   "metadata": {},
   "outputs": [
    {
     "data": {
      "text/plain": [
       "\"paul erdos george polya influential hungarian mathematician contributed lot the field erdos ' name contains the hungarian letter ' o ' ' o ' acute accent often incorrectly written erdos erdos either mistake typographical necessity\""
      ]
     },
     "execution_count": 24,
     "metadata": {},
     "output_type": "execute_result"
    }
   ],
   "source": [
    "remove_stopwords(lemmatized, extra_words, exclude_words)"
   ]
  },
  {
   "cell_type": "code",
   "execution_count": null,
   "id": "61c94d61",
   "metadata": {},
   "outputs": [],
   "source": []
  },
  {
   "cell_type": "code",
   "execution_count": 39,
   "id": "bbe15f2f",
   "metadata": {},
   "outputs": [],
   "source": [
    "news_df = acquire.get_news_articles()"
   ]
  },
  {
   "cell_type": "code",
   "execution_count": 40,
   "id": "96a3ccb9",
   "metadata": {},
   "outputs": [
    {
     "data": {
      "text/html": [
       "<div>\n",
       "<style scoped>\n",
       "    .dataframe tbody tr th:only-of-type {\n",
       "        vertical-align: middle;\n",
       "    }\n",
       "\n",
       "    .dataframe tbody tr th {\n",
       "        vertical-align: top;\n",
       "    }\n",
       "\n",
       "    .dataframe thead th {\n",
       "        text-align: right;\n",
       "    }\n",
       "</style>\n",
       "<table border=\"1\" class=\"dataframe\">\n",
       "  <thead>\n",
       "    <tr style=\"text-align: right;\">\n",
       "      <th></th>\n",
       "      <th>title</th>\n",
       "      <th>content</th>\n",
       "      <th>category</th>\n",
       "    </tr>\n",
       "  </thead>\n",
       "  <tbody>\n",
       "    <tr>\n",
       "      <th>0</th>\n",
       "      <td>British artist live-streams burning 1,000 of h...</td>\n",
       "      <td>British artist Damien Hirst burnt 1,000 painti...</td>\n",
       "      <td>technology</td>\n",
       "    </tr>\n",
       "    <tr>\n",
       "      <th>1</th>\n",
       "      <td>Musk sells $1 million worth of 'Burnt Hair' pe...</td>\n",
       "      <td>The world's richest person Elon Musk earned a ...</td>\n",
       "      <td>technology</td>\n",
       "    </tr>\n",
       "    <tr>\n",
       "      <th>2</th>\n",
       "      <td>HCL disapproves dual employment, says moonligh...</td>\n",
       "      <td>Speaking on the issue of moonlighting, HCL Tec...</td>\n",
       "      <td>technology</td>\n",
       "    </tr>\n",
       "    <tr>\n",
       "      <th>3</th>\n",
       "      <td>We do not support dual employment: Infosys on ...</td>\n",
       "      <td>Infosys CEO Salil Parekh spoke on the moonligh...</td>\n",
       "      <td>technology</td>\n",
       "    </tr>\n",
       "    <tr>\n",
       "      <th>4</th>\n",
       "      <td>Wipro's net employee addition falls to 605, at...</td>\n",
       "      <td>IT services firm Wipro on Wednesday said its n...</td>\n",
       "      <td>technology</td>\n",
       "    </tr>\n",
       "    <tr>\n",
       "      <th>...</th>\n",
       "      <td>...</td>\n",
       "      <td>...</td>\n",
       "      <td>...</td>\n",
       "    </tr>\n",
       "    <tr>\n",
       "      <th>95</th>\n",
       "      <td>I'm speechless: Tanushree on Sajid Khan's part...</td>\n",
       "      <td>Actress Tanushree Dutta said she's \"speechless...</td>\n",
       "      <td>entertainment</td>\n",
       "    </tr>\n",
       "    <tr>\n",
       "      <th>96</th>\n",
       "      <td>Sona calls Farhan Akhtar 'shameless' over his ...</td>\n",
       "      <td>Singer Sona Mohapatra took to Twitter and crit...</td>\n",
       "      <td>entertainment</td>\n",
       "    </tr>\n",
       "    <tr>\n",
       "      <th>97</th>\n",
       "      <td>Big B was to star in 'King Uncle' opposite me:...</td>\n",
       "      <td>'Aashiqui' actress Anu Aggarwal revealed that ...</td>\n",
       "      <td>entertainment</td>\n",
       "    </tr>\n",
       "    <tr>\n",
       "      <th>98</th>\n",
       "      <td>Never thought being good-looking would be nega...</td>\n",
       "      <td>Actor Sidharth Malhotra said he never thought ...</td>\n",
       "      <td>entertainment</td>\n",
       "    </tr>\n",
       "    <tr>\n",
       "      <th>99</th>\n",
       "      <td>Can never please all: Shaheen on negative comm...</td>\n",
       "      <td>Actress Alia Bhatt's sister Shaheen Bhatt has ...</td>\n",
       "      <td>entertainment</td>\n",
       "    </tr>\n",
       "  </tbody>\n",
       "</table>\n",
       "<p>100 rows × 3 columns</p>\n",
       "</div>"
      ],
      "text/plain": [
       "                                                title  \\\n",
       "0   British artist live-streams burning 1,000 of h...   \n",
       "1   Musk sells $1 million worth of 'Burnt Hair' pe...   \n",
       "2   HCL disapproves dual employment, says moonligh...   \n",
       "3   We do not support dual employment: Infosys on ...   \n",
       "4   Wipro's net employee addition falls to 605, at...   \n",
       "..                                                ...   \n",
       "95  I'm speechless: Tanushree on Sajid Khan's part...   \n",
       "96  Sona calls Farhan Akhtar 'shameless' over his ...   \n",
       "97  Big B was to star in 'King Uncle' opposite me:...   \n",
       "98  Never thought being good-looking would be nega...   \n",
       "99  Can never please all: Shaheen on negative comm...   \n",
       "\n",
       "                                              content       category  \n",
       "0   British artist Damien Hirst burnt 1,000 painti...     technology  \n",
       "1   The world's richest person Elon Musk earned a ...     technology  \n",
       "2   Speaking on the issue of moonlighting, HCL Tec...     technology  \n",
       "3   Infosys CEO Salil Parekh spoke on the moonligh...     technology  \n",
       "4   IT services firm Wipro on Wednesday said its n...     technology  \n",
       "..                                                ...            ...  \n",
       "95  Actress Tanushree Dutta said she's \"speechless...  entertainment  \n",
       "96  Singer Sona Mohapatra took to Twitter and crit...  entertainment  \n",
       "97  'Aashiqui' actress Anu Aggarwal revealed that ...  entertainment  \n",
       "98  Actor Sidharth Malhotra said he never thought ...  entertainment  \n",
       "99  Actress Alia Bhatt's sister Shaheen Bhatt has ...  entertainment  \n",
       "\n",
       "[100 rows x 3 columns]"
      ]
     },
     "execution_count": 40,
     "metadata": {},
     "output_type": "execute_result"
    }
   ],
   "source": [
    "news_df"
   ]
  },
  {
   "cell_type": "code",
   "execution_count": 41,
   "id": "ea00454d",
   "metadata": {},
   "outputs": [],
   "source": [
    "codeup_df = acquire.get_blog_articles()"
   ]
  },
  {
   "cell_type": "code",
   "execution_count": 42,
   "id": "bf9f4010",
   "metadata": {},
   "outputs": [
    {
     "data": {
      "text/html": [
       "<div>\n",
       "<style scoped>\n",
       "    .dataframe tbody tr th:only-of-type {\n",
       "        vertical-align: middle;\n",
       "    }\n",
       "\n",
       "    .dataframe tbody tr th {\n",
       "        vertical-align: top;\n",
       "    }\n",
       "\n",
       "    .dataframe thead th {\n",
       "        text-align: right;\n",
       "    }\n",
       "</style>\n",
       "<table border=\"1\" class=\"dataframe\">\n",
       "  <thead>\n",
       "    <tr style=\"text-align: right;\">\n",
       "      <th></th>\n",
       "      <th>title</th>\n",
       "      <th>content</th>\n",
       "    </tr>\n",
       "  </thead>\n",
       "  <tbody>\n",
       "    <tr>\n",
       "      <th>0</th>\n",
       "      <td>Coding Bootcamp or Computer Science Degree?</td>\n",
       "      <td>For many people, deciding between a coding boo...</td>\n",
       "    </tr>\n",
       "    <tr>\n",
       "      <th>1</th>\n",
       "      <td>Diversity Equity and Inclusion Report</td>\n",
       "      <td>Codeup is excited to launch our first Diversit...</td>\n",
       "    </tr>\n",
       "    <tr>\n",
       "      <th>2</th>\n",
       "      <td>Codeup Honored as SABJ Diversity and Inclusion...</td>\n",
       "      <td>Codeup has been named the 2022 Diversity and I...</td>\n",
       "    </tr>\n",
       "    <tr>\n",
       "      <th>3</th>\n",
       "      <td>How Can I Finance My Career Transition?</td>\n",
       "      <td>Deciding to transition into a tech career is a...</td>\n",
       "    </tr>\n",
       "    <tr>\n",
       "      <th>4</th>\n",
       "      <td>Tips for Women Beginning a Career in Tech</td>\n",
       "      <td>Codeup strongly values diversity, and inclusio...</td>\n",
       "    </tr>\n",
       "    <tr>\n",
       "      <th>5</th>\n",
       "      <td>What is Cloud Computing and AWS?</td>\n",
       "      <td>With many companies switching to cloud service...</td>\n",
       "    </tr>\n",
       "  </tbody>\n",
       "</table>\n",
       "</div>"
      ],
      "text/plain": [
       "                                               title  \\\n",
       "0        Coding Bootcamp or Computer Science Degree?   \n",
       "1              Diversity Equity and Inclusion Report   \n",
       "2  Codeup Honored as SABJ Diversity and Inclusion...   \n",
       "3            How Can I Finance My Career Transition?   \n",
       "4          Tips for Women Beginning a Career in Tech   \n",
       "5                   What is Cloud Computing and AWS?   \n",
       "\n",
       "                                             content  \n",
       "0  For many people, deciding between a coding boo...  \n",
       "1  Codeup is excited to launch our first Diversit...  \n",
       "2  Codeup has been named the 2022 Diversity and I...  \n",
       "3  Deciding to transition into a tech career is a...  \n",
       "4  Codeup strongly values diversity, and inclusio...  \n",
       "5  With many companies switching to cloud service...  "
      ]
     },
     "execution_count": 42,
     "metadata": {},
     "output_type": "execute_result"
    }
   ],
   "source": [
    "codeup_df"
   ]
  },
  {
   "cell_type": "markdown",
   "id": "60973079",
   "metadata": {},
   "source": [
    "# For each dataframe, produce the following columns:\n",
    "\n",
    "    title to hold the title\n",
    "\n",
    "    original to hold the original article/post content\n",
    "\n",
    "    clean to hold the normalized and tokenized original with the stopwords removed.\n",
    "\n",
    "    stemmed to hold the stemmed version of the cleaned data.\n",
    "\n",
    "    lemmatized to hold the lemmatized version of the cleaned data."
   ]
  },
  {
   "cell_type": "code",
   "execution_count": 43,
   "id": "9e25a7e1",
   "metadata": {},
   "outputs": [
    {
     "data": {
      "text/html": [
       "<div>\n",
       "<style scoped>\n",
       "    .dataframe tbody tr th:only-of-type {\n",
       "        vertical-align: middle;\n",
       "    }\n",
       "\n",
       "    .dataframe tbody tr th {\n",
       "        vertical-align: top;\n",
       "    }\n",
       "\n",
       "    .dataframe thead th {\n",
       "        text-align: right;\n",
       "    }\n",
       "</style>\n",
       "<table border=\"1\" class=\"dataframe\">\n",
       "  <thead>\n",
       "    <tr style=\"text-align: right;\">\n",
       "      <th></th>\n",
       "      <th>title</th>\n",
       "      <th>original</th>\n",
       "      <th>category</th>\n",
       "      <th>clean</th>\n",
       "      <th>stemmed</th>\n",
       "      <th>lemmatized</th>\n",
       "    </tr>\n",
       "  </thead>\n",
       "  <tbody>\n",
       "    <tr>\n",
       "      <th>0</th>\n",
       "      <td>British artist live-streams burning 1,000 of h...</td>\n",
       "      <td>British artist Damien Hirst burnt 1,000 painti...</td>\n",
       "      <td>technology</td>\n",
       "      <td>british artist damien hirst burnt 1000 paintin...</td>\n",
       "      <td>british artist damien hirst burnt 1000 paint p...</td>\n",
       "      <td>british artist damien hirst burnt 1000 paintin...</td>\n",
       "    </tr>\n",
       "    <tr>\n",
       "      <th>1</th>\n",
       "      <td>Musk sells $1 million worth of 'Burnt Hair' pe...</td>\n",
       "      <td>The world's richest person Elon Musk earned a ...</td>\n",
       "      <td>technology</td>\n",
       "      <td>world ' richest person elon musk earned millio...</td>\n",
       "      <td>world ' richest person elon musk earn million ...</td>\n",
       "      <td>world ' richest person elon musk earned millio...</td>\n",
       "    </tr>\n",
       "    <tr>\n",
       "      <th>2</th>\n",
       "      <td>HCL disapproves dual employment, says moonligh...</td>\n",
       "      <td>Speaking on the issue of moonlighting, HCL Tec...</td>\n",
       "      <td>technology</td>\n",
       "      <td>speaking issue moonlighting hcl technologies s...</td>\n",
       "      <td>speak issu moonlight hcl technolog said doesnt...</td>\n",
       "      <td>speaking issue moonlighting hcl technology sai...</td>\n",
       "    </tr>\n",
       "    <tr>\n",
       "      <th>3</th>\n",
       "      <td>We do not support dual employment: Infosys on ...</td>\n",
       "      <td>Infosys CEO Salil Parekh spoke on the moonligh...</td>\n",
       "      <td>technology</td>\n",
       "      <td>infosys ceo salil parekh spoke moonlighting de...</td>\n",
       "      <td>infosi ceo salil parekh spoke moonlight debat ...</td>\n",
       "      <td>infosys ceo salil parekh spoke moonlighting de...</td>\n",
       "    </tr>\n",
       "    <tr>\n",
       "      <th>4</th>\n",
       "      <td>Wipro's net employee addition falls to 605, at...</td>\n",
       "      <td>IT services firm Wipro on Wednesday said its n...</td>\n",
       "      <td>technology</td>\n",
       "      <td>services firm wipro wednesday said net employe...</td>\n",
       "      <td>servic firm wipro wednesday said net employe a...</td>\n",
       "      <td>service firm wipro wednesday said net employee...</td>\n",
       "    </tr>\n",
       "    <tr>\n",
       "      <th>...</th>\n",
       "      <td>...</td>\n",
       "      <td>...</td>\n",
       "      <td>...</td>\n",
       "      <td>...</td>\n",
       "      <td>...</td>\n",
       "      <td>...</td>\n",
       "    </tr>\n",
       "    <tr>\n",
       "      <th>95</th>\n",
       "      <td>I'm speechless: Tanushree on Sajid Khan's part...</td>\n",
       "      <td>Actress Tanushree Dutta said she's \"speechless...</td>\n",
       "      <td>entertainment</td>\n",
       "      <td>actress tanushree dutta said ' speechless film...</td>\n",
       "      <td>actress tanushre dutta said ' speechless filmm...</td>\n",
       "      <td>actress tanushree dutta said ' speechless film...</td>\n",
       "    </tr>\n",
       "    <tr>\n",
       "      <th>96</th>\n",
       "      <td>Sona calls Farhan Akhtar 'shameless' over his ...</td>\n",
       "      <td>Singer Sona Mohapatra took to Twitter and crit...</td>\n",
       "      <td>entertainment</td>\n",
       "      <td>singer sona mohapatra took twitter criticised ...</td>\n",
       "      <td>singer sona mohapatra took twitter criticis fa...</td>\n",
       "      <td>singer sona mohapatra took twitter criticised ...</td>\n",
       "    </tr>\n",
       "    <tr>\n",
       "      <th>97</th>\n",
       "      <td>Big B was to star in 'King Uncle' opposite me:...</td>\n",
       "      <td>'Aashiqui' actress Anu Aggarwal revealed that ...</td>\n",
       "      <td>entertainment</td>\n",
       "      <td>' aashiqui ' actress anu aggarwal revealed vet...</td>\n",
       "      <td>' aashiqui ' actress anu aggarw reveal veteran...</td>\n",
       "      <td>' aashiqui ' actress anu aggarwal revealed vet...</td>\n",
       "    </tr>\n",
       "    <tr>\n",
       "      <th>98</th>\n",
       "      <td>Never thought being good-looking would be nega...</td>\n",
       "      <td>Actor Sidharth Malhotra said he never thought ...</td>\n",
       "      <td>entertainment</td>\n",
       "      <td>actor sidharth malhotra said never thought goo...</td>\n",
       "      <td>actor sidharth malhotra said never thought goo...</td>\n",
       "      <td>actor sidharth malhotra said never thought goo...</td>\n",
       "    </tr>\n",
       "    <tr>\n",
       "      <th>99</th>\n",
       "      <td>Can never please all: Shaheen on negative comm...</td>\n",
       "      <td>Actress Alia Bhatt's sister Shaheen Bhatt has ...</td>\n",
       "      <td>entertainment</td>\n",
       "      <td>actress alia bhatt ' sister shaheen bhatt reac...</td>\n",
       "      <td>actress alia bhatt ' sister shaheen bhatt reac...</td>\n",
       "      <td>actress alia bhatt ' sister shaheen bhatt reac...</td>\n",
       "    </tr>\n",
       "  </tbody>\n",
       "</table>\n",
       "<p>100 rows × 6 columns</p>\n",
       "</div>"
      ],
      "text/plain": [
       "                                                title  \\\n",
       "0   British artist live-streams burning 1,000 of h...   \n",
       "1   Musk sells $1 million worth of 'Burnt Hair' pe...   \n",
       "2   HCL disapproves dual employment, says moonligh...   \n",
       "3   We do not support dual employment: Infosys on ...   \n",
       "4   Wipro's net employee addition falls to 605, at...   \n",
       "..                                                ...   \n",
       "95  I'm speechless: Tanushree on Sajid Khan's part...   \n",
       "96  Sona calls Farhan Akhtar 'shameless' over his ...   \n",
       "97  Big B was to star in 'King Uncle' opposite me:...   \n",
       "98  Never thought being good-looking would be nega...   \n",
       "99  Can never please all: Shaheen on negative comm...   \n",
       "\n",
       "                                             original       category  \\\n",
       "0   British artist Damien Hirst burnt 1,000 painti...     technology   \n",
       "1   The world's richest person Elon Musk earned a ...     technology   \n",
       "2   Speaking on the issue of moonlighting, HCL Tec...     technology   \n",
       "3   Infosys CEO Salil Parekh spoke on the moonligh...     technology   \n",
       "4   IT services firm Wipro on Wednesday said its n...     technology   \n",
       "..                                                ...            ...   \n",
       "95  Actress Tanushree Dutta said she's \"speechless...  entertainment   \n",
       "96  Singer Sona Mohapatra took to Twitter and crit...  entertainment   \n",
       "97  'Aashiqui' actress Anu Aggarwal revealed that ...  entertainment   \n",
       "98  Actor Sidharth Malhotra said he never thought ...  entertainment   \n",
       "99  Actress Alia Bhatt's sister Shaheen Bhatt has ...  entertainment   \n",
       "\n",
       "                                                clean  \\\n",
       "0   british artist damien hirst burnt 1000 paintin...   \n",
       "1   world ' richest person elon musk earned millio...   \n",
       "2   speaking issue moonlighting hcl technologies s...   \n",
       "3   infosys ceo salil parekh spoke moonlighting de...   \n",
       "4   services firm wipro wednesday said net employe...   \n",
       "..                                                ...   \n",
       "95  actress tanushree dutta said ' speechless film...   \n",
       "96  singer sona mohapatra took twitter criticised ...   \n",
       "97  ' aashiqui ' actress anu aggarwal revealed vet...   \n",
       "98  actor sidharth malhotra said never thought goo...   \n",
       "99  actress alia bhatt ' sister shaheen bhatt reac...   \n",
       "\n",
       "                                              stemmed  \\\n",
       "0   british artist damien hirst burnt 1000 paint p...   \n",
       "1   world ' richest person elon musk earn million ...   \n",
       "2   speak issu moonlight hcl technolog said doesnt...   \n",
       "3   infosi ceo salil parekh spoke moonlight debat ...   \n",
       "4   servic firm wipro wednesday said net employe a...   \n",
       "..                                                ...   \n",
       "95  actress tanushre dutta said ' speechless filmm...   \n",
       "96  singer sona mohapatra took twitter criticis fa...   \n",
       "97  ' aashiqui ' actress anu aggarw reveal veteran...   \n",
       "98  actor sidharth malhotra said never thought goo...   \n",
       "99  actress alia bhatt ' sister shaheen bhatt reac...   \n",
       "\n",
       "                                           lemmatized  \n",
       "0   british artist damien hirst burnt 1000 paintin...  \n",
       "1   world ' richest person elon musk earned millio...  \n",
       "2   speaking issue moonlighting hcl technology sai...  \n",
       "3   infosys ceo salil parekh spoke moonlighting de...  \n",
       "4   service firm wipro wednesday said net employee...  \n",
       "..                                                ...  \n",
       "95  actress tanushree dutta said ' speechless film...  \n",
       "96  singer sona mohapatra took twitter criticised ...  \n",
       "97  ' aashiqui ' actress anu aggarwal revealed vet...  \n",
       "98  actor sidharth malhotra said never thought goo...  \n",
       "99  actress alia bhatt ' sister shaheen bhatt reac...  \n",
       "\n",
       "[100 rows x 6 columns]"
      ]
     },
     "execution_count": 43,
     "metadata": {},
     "output_type": "execute_result"
    }
   ],
   "source": [
    "news_df['clean'] = news_df.content.apply(lambda x: prepare.basic_clean(x)).apply(lambda x: prepare.tokenize(x)).apply(lambda x: prepare.remove_stopwords(x))\n",
    "news_df['stemmed'] = news_df.clean.apply(lambda x: prepare.stem(x))\n",
    "news_df['lemmatized'] = news_df.clean.apply(lambda x: prepare.lemmatize(x))\n",
    "news_df.rename(columns={'content' : 'original'}, inplace=True)\n",
    "news_df"
   ]
  },
  {
   "cell_type": "code",
   "execution_count": 44,
   "id": "6abc9e30",
   "metadata": {},
   "outputs": [],
   "source": [
    "codeup_df['clean'] = codeup_df.content.apply(lambda x: prepare.basic_clean(x)).apply(lambda x: prepare.tokenize(x)).apply(lambda x: prepare.remove_stopwords(x))\n",
    "codeup_df['stemmed'] = codeup_df.clean.apply(lambda x: prepare.stem(x))\n",
    "codeup_df['lemmatized'] = codeup_df.clean.apply(lambda x: prepare.lemmatize(x))\n",
    "codeup_df.rename(columns={'content' : 'original'}, inplace=True)\n"
   ]
  },
  {
   "cell_type": "code",
   "execution_count": 45,
   "id": "ef516c10",
   "metadata": {},
   "outputs": [
    {
     "data": {
      "text/html": [
       "<div>\n",
       "<style scoped>\n",
       "    .dataframe tbody tr th:only-of-type {\n",
       "        vertical-align: middle;\n",
       "    }\n",
       "\n",
       "    .dataframe tbody tr th {\n",
       "        vertical-align: top;\n",
       "    }\n",
       "\n",
       "    .dataframe thead th {\n",
       "        text-align: right;\n",
       "    }\n",
       "</style>\n",
       "<table border=\"1\" class=\"dataframe\">\n",
       "  <thead>\n",
       "    <tr style=\"text-align: right;\">\n",
       "      <th></th>\n",
       "      <th>title</th>\n",
       "      <th>original</th>\n",
       "      <th>clean</th>\n",
       "      <th>stemmed</th>\n",
       "      <th>lemmatized</th>\n",
       "    </tr>\n",
       "  </thead>\n",
       "  <tbody>\n",
       "    <tr>\n",
       "      <th>0</th>\n",
       "      <td>Coding Bootcamp or Computer Science Degree?</td>\n",
       "      <td>For many people, deciding between a coding boo...</td>\n",
       "      <td>many people deciding coding bootcamp computer ...</td>\n",
       "      <td>mani peopl decid code bootcamp comput scienc d...</td>\n",
       "      <td>many people deciding coding bootcamp computer ...</td>\n",
       "    </tr>\n",
       "    <tr>\n",
       "      <th>1</th>\n",
       "      <td>Diversity Equity and Inclusion Report</td>\n",
       "      <td>Codeup is excited to launch our first Diversit...</td>\n",
       "      <td>codeup excited launch first diversity equity i...</td>\n",
       "      <td>codeup excit launch first divers equiti inclus...</td>\n",
       "      <td>codeup excited launch first diversity equity i...</td>\n",
       "    </tr>\n",
       "    <tr>\n",
       "      <th>2</th>\n",
       "      <td>Codeup Honored as SABJ Diversity and Inclusion...</td>\n",
       "      <td>Codeup has been named the 2022 Diversity and I...</td>\n",
       "      <td>codeup named 2022 diversity inclusion award wi...</td>\n",
       "      <td>codeup name 2022 divers inclus award winner sa...</td>\n",
       "      <td>codeup named 2022 diversity inclusion award wi...</td>\n",
       "    </tr>\n",
       "    <tr>\n",
       "      <th>3</th>\n",
       "      <td>How Can I Finance My Career Transition?</td>\n",
       "      <td>Deciding to transition into a tech career is a...</td>\n",
       "      <td>deciding transition tech career big step signi...</td>\n",
       "      <td>decid transit tech career big step signific co...</td>\n",
       "      <td>deciding transition tech career big step signi...</td>\n",
       "    </tr>\n",
       "    <tr>\n",
       "      <th>4</th>\n",
       "      <td>Tips for Women Beginning a Career in Tech</td>\n",
       "      <td>Codeup strongly values diversity, and inclusio...</td>\n",
       "      <td>codeup strongly values diversity inclusion hon...</td>\n",
       "      <td>codeup strongli valu divers inclus honor ameri...</td>\n",
       "      <td>codeup strongly value diversity inclusion hono...</td>\n",
       "    </tr>\n",
       "    <tr>\n",
       "      <th>5</th>\n",
       "      <td>What is Cloud Computing and AWS?</td>\n",
       "      <td>With many companies switching to cloud service...</td>\n",
       "      <td>many companies switching cloud services implem...</td>\n",
       "      <td>mani compani switch cloud servic implement clo...</td>\n",
       "      <td>many company switching cloud service implement...</td>\n",
       "    </tr>\n",
       "  </tbody>\n",
       "</table>\n",
       "</div>"
      ],
      "text/plain": [
       "                                               title  \\\n",
       "0        Coding Bootcamp or Computer Science Degree?   \n",
       "1              Diversity Equity and Inclusion Report   \n",
       "2  Codeup Honored as SABJ Diversity and Inclusion...   \n",
       "3            How Can I Finance My Career Transition?   \n",
       "4          Tips for Women Beginning a Career in Tech   \n",
       "5                   What is Cloud Computing and AWS?   \n",
       "\n",
       "                                            original  \\\n",
       "0  For many people, deciding between a coding boo...   \n",
       "1  Codeup is excited to launch our first Diversit...   \n",
       "2  Codeup has been named the 2022 Diversity and I...   \n",
       "3  Deciding to transition into a tech career is a...   \n",
       "4  Codeup strongly values diversity, and inclusio...   \n",
       "5  With many companies switching to cloud service...   \n",
       "\n",
       "                                               clean  \\\n",
       "0  many people deciding coding bootcamp computer ...   \n",
       "1  codeup excited launch first diversity equity i...   \n",
       "2  codeup named 2022 diversity inclusion award wi...   \n",
       "3  deciding transition tech career big step signi...   \n",
       "4  codeup strongly values diversity inclusion hon...   \n",
       "5  many companies switching cloud services implem...   \n",
       "\n",
       "                                             stemmed  \\\n",
       "0  mani peopl decid code bootcamp comput scienc d...   \n",
       "1  codeup excit launch first divers equiti inclus...   \n",
       "2  codeup name 2022 divers inclus award winner sa...   \n",
       "3  decid transit tech career big step signific co...   \n",
       "4  codeup strongli valu divers inclus honor ameri...   \n",
       "5  mani compani switch cloud servic implement clo...   \n",
       "\n",
       "                                          lemmatized  \n",
       "0  many people deciding coding bootcamp computer ...  \n",
       "1  codeup excited launch first diversity equity i...  \n",
       "2  codeup named 2022 diversity inclusion award wi...  \n",
       "3  deciding transition tech career big step signi...  \n",
       "4  codeup strongly value diversity inclusion hono...  \n",
       "5  many company switching cloud service implement...  "
      ]
     },
     "execution_count": 45,
     "metadata": {},
     "output_type": "execute_result"
    }
   ],
   "source": [
    "codeup_df"
   ]
  },
  {
   "cell_type": "code",
   "execution_count": null,
   "id": "f6105e52",
   "metadata": {},
   "outputs": [],
   "source": []
  }
 ],
 "metadata": {
  "kernelspec": {
   "display_name": "Python 3 (ipykernel)",
   "language": "python",
   "name": "python3"
  },
  "language_info": {
   "codemirror_mode": {
    "name": "ipython",
    "version": 3
   },
   "file_extension": ".py",
   "mimetype": "text/x-python",
   "name": "python",
   "nbconvert_exporter": "python",
   "pygments_lexer": "ipython3",
   "version": "3.9.12"
  }
 },
 "nbformat": 4,
 "nbformat_minor": 5
}
