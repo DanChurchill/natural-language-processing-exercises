{
 "cells": [
  {
   "cell_type": "code",
   "execution_count": 1,
   "id": "73d09ce4",
   "metadata": {},
   "outputs": [],
   "source": [
    "from requests import get\n",
    "from bs4 import BeautifulSoup\n",
    "import os\n",
    "import re\n",
    "import pandas as pd"
   ]
  },
  {
   "cell_type": "code",
   "execution_count": 7,
   "id": "ceb62b3a",
   "metadata": {},
   "outputs": [],
   "source": [
    "url = 'https://codeup.com/data-science/math-in-data-science/'\n",
    "headers = {'User-Agent': 'Codeup Data Science'}\n",
    "response = get(url, headers=headers)"
   ]
  },
  {
   "cell_type": "code",
   "execution_count": 8,
   "id": "79cb88b8",
   "metadata": {},
   "outputs": [
    {
     "name": "stdout",
     "output_type": "stream",
     "text": [
      "<!DOCTYPE html>\n",
      "<html lang=\"en-US\">\n",
      "<head>\n",
      "\t<meta charset=\"UTF-8\" />\n",
      "<meta http-equiv=\"X-UA-Compatible\" content=\"IE=edge\">\n",
      "\t<link rel=\"pingback\" href=\"https://codeup.com/xmlrpc.php\" />\n",
      "\n",
      "\t<script type=\"text/javascript\">\n",
      "\t\tdocument.documentElement.className = 'js';\n",
      "\t</script>\n",
      "\t\n",
      "\t<link rel=\"preconnect\" href=\"https://fonts.gstatic.com\" crossorigin /><script id=\"diviarea-loader\">window.DiviPopupData=wi\n"
     ]
    }
   ],
   "source": [
    "print(response.text[:400])"
   ]
  },
  {
   "cell_type": "code",
   "execution_count": 9,
   "id": "4be16578",
   "metadata": {},
   "outputs": [],
   "source": [
    "soup = BeautifulSoup(response.content, 'html.parser')"
   ]
  },
  {
   "cell_type": "code",
   "execution_count": 23,
   "id": "28e5f99d",
   "metadata": {},
   "outputs": [
    {
     "data": {
      "text/plain": [
       "<h1 class=\"entry-title\">What are the Math and Stats Principles You Need for Data Science?</h1>"
      ]
     },
     "execution_count": 23,
     "metadata": {},
     "output_type": "execute_result"
    }
   ],
   "source": [
    "soup.find('h1')"
   ]
  },
  {
   "cell_type": "code",
   "execution_count": 26,
   "id": "5988919f",
   "metadata": {},
   "outputs": [
    {
     "data": {
      "text/plain": [
       "'\\n\\n\\n\\n\\n\\nWhat are the Math and Stats Principles You Need for Data Science?\\nOct 21, 2020 | Data Science\\n\\n\\nComing into our Data Science program, you will need to know some math and stats. However, many of our applicants actually learn in the application process – you don’t need to be an expert before applying! Data science is a very accessible field to anyone dedicated to learning new skills, and we can work with any applicant to help them learn what they need to know. But what “skills” do we mean, exactly? Just what exactly are the data science math and stats principles you need to know?\\nWhat are the main math principles you need to know to get into Codeup’s Data Science program?\\n\\n\\nAlgebra\\nDo you know PEMDAS and can you solve for x? You will need to be or become comfortable with the following:\\xa0\\n\\nVariables (x, y, n, etc.)\\nFormulas, functions, and variable manipulations (e.g. x^2 = x + 6, solve for x).\\nOrder of evaluation: PEMDAS: parentheses, exponents, then multiplication, division, addition, and subtraction\\nCommutativity where a + b = b + a\\nAssociativity where a + (b + c) = (a + b) + c\\nAdding and subtracting matrices\\nA conceptual understanding of exponential growth/decay- things can increase at an increasing rate\\n\\nDescriptive Statistics\\nKnow what a min, max, mode, median, and average are. Have a conceptual understanding that stats/probability is about trying to quantify uncertainty.\\nData Visualization\\nKnow what a scatterplot is and how to read a barplot.\\nHow to Learn and Expand on These Concepts\\nThere are a number of great resources out there to teach you these and similar concepts. Khan Academy is a great starting place for data science math! If you want to know what exactly we assign our applicants, you’ll just have to apply!\\n\\xa0\\nWhat about once you’re in Codeup?\\n\\n\\nWhat You Won’t Do\\nDo we do any mathematical proofs for concepts or perform derivations? No.\\xa0\\nDo we do any calculus and probability calculating by hand? No.\\nAre we transforming equations, where we cancel out units or terms and do lots of algebraic gymnastics? No\\nWhat You Will Do\\nWill we have Python solve our linear algebra problems for us? Yes\\nWill we have Python calculate probabilities, the area under a curve, and the slope of a line for us? Yes\\nWill we have Python do all of the calculus for us? Yes\\n\\xa0\\nSee, the data science math and stats slice of the pie is certainly doable. If you like problem-solving and are ready to challenge yourself, you’ll love data science! If you are interested in learning about data science, just apply! Our Admissions Manager can work with you to get you where you need to be starting from where you are now. Let us help you get there so you can launch a great new career.\\n\\n\\n\\n\\n\\n\\n\\n\\nOur ProgramsCloud Administration\\nFull Stack Web Development\\nData Science\\n\\n\\n\\n\\n\\nLatest Blog Articles\\nDiversity Equity and Inclusion Report\\nCodeup Honored as SABJ Diversity and Inclusion Award Winner\\nHow Can I Finance My Career Transition?\\nTips for Women Beginning a Career in Tech\\nWhat is Cloud Computing and AWS?\\n\\n\\n\\n\\n\\n\\n\\n\\n\\n\\n\\n\\n\\n\\n\\n\\n\\n \\n\\n\\n'"
      ]
     },
     "execution_count": 26,
     "metadata": {},
     "output_type": "execute_result"
    }
   ],
   "source": [
    "article = soup.find('div', id='main-content')\n",
    "article.text"
   ]
  },
  {
   "cell_type": "code",
   "execution_count": 27,
   "id": "2a6ac726",
   "metadata": {},
   "outputs": [],
   "source": [
    "with open('article.txt', 'w') as f:\n",
    "    f.write(article.text)"
   ]
  },
  {
   "cell_type": "code",
   "execution_count": 28,
   "id": "ce903efb",
   "metadata": {},
   "outputs": [],
   "source": [
    "def get_article_text():\n",
    "    if path.exists('article.txt'):\n",
    "        with open('article.txt') as f:\n",
    "            return f.read()\n",
    "        \n",
    "    url = url = 'https://codeup.com/data-science/math-in-data-science/'\n",
    "    headers = {'User-Agent': 'Codeup Data Science'}\n",
    "    response = get(url, headers=headers)\n",
    "    soup = BeautifulSoup(response.text)\n",
    "    article = soup.find('div', id='main-content')\n",
    "    \n",
    "    with open('article.txt', 'w') as f:\n",
    "        f.write(article.txt)\n",
    "        \n",
    "    return article.txt"
   ]
  },
  {
   "cell_type": "code",
   "execution_count": 55,
   "id": "1c323de9",
   "metadata": {},
   "outputs": [],
   "source": [
    "url1 = 'https://codeup.com/codeup-news/dei-report/'\n",
    "url2 = 'https://codeup.com/codeup-news/diversity-and-inclusion-award/'\n",
    "url3 = 'https://codeup.com/featured/financing-career-transition/'\n",
    "url4 = 'https://codeup.com/tips-for-prospective-students/tips-for-women/'\n",
    "url5 = 'https://codeup.com/cloud-administration/cloud-computing-and-aws/'\n",
    "url_list = [url1, url2, url3, url4, url5]\n",
    "headers = {'User-Agent': 'Codeup Data Science'}\n",
    "articles = []"
   ]
  },
  {
   "cell_type": "code",
   "execution_count": 57,
   "id": "1efbfb67",
   "metadata": {},
   "outputs": [],
   "source": [
    "for url in url_list:\n",
    "    response = get(url, headers=headers)\n",
    "    soup = BeautifulSoup(response.content, 'html.parser')\n",
    "    content = soup.find('div', id='main-content').text\n",
    "    articles.append({'title' : soup.title.string, 'content' : content})"
   ]
  },
  {
   "cell_type": "code",
   "execution_count": 60,
   "id": "d862f9f8",
   "metadata": {},
   "outputs": [
    {
     "data": {
      "text/html": [
       "<div>\n",
       "<style scoped>\n",
       "    .dataframe tbody tr th:only-of-type {\n",
       "        vertical-align: middle;\n",
       "    }\n",
       "\n",
       "    .dataframe tbody tr th {\n",
       "        vertical-align: top;\n",
       "    }\n",
       "\n",
       "    .dataframe thead th {\n",
       "        text-align: right;\n",
       "    }\n",
       "</style>\n",
       "<table border=\"1\" class=\"dataframe\">\n",
       "  <thead>\n",
       "    <tr style=\"text-align: right;\">\n",
       "      <th></th>\n",
       "      <th>title</th>\n",
       "      <th>content</th>\n",
       "    </tr>\n",
       "  </thead>\n",
       "  <tbody>\n",
       "    <tr>\n",
       "      <th>0</th>\n",
       "      <td>Diversity Equity and Inclusion Report - Codeup</td>\n",
       "      <td>\\n\\n\\n\\n\\n\\nDiversity Equity and Inclusion Rep...</td>\n",
       "    </tr>\n",
       "    <tr>\n",
       "      <th>1</th>\n",
       "      <td>Codeup Honored as SABJ Diversity and Inclusion...</td>\n",
       "      <td>\\n\\n\\n\\n\\n\\nCodeup Honored as SABJ Diversity a...</td>\n",
       "    </tr>\n",
       "    <tr>\n",
       "      <th>2</th>\n",
       "      <td>How Can I Finance My Career Transition? - Codeup</td>\n",
       "      <td>\\n\\n\\n\\n\\n\\nHow Can I Finance My Career Transi...</td>\n",
       "    </tr>\n",
       "    <tr>\n",
       "      <th>3</th>\n",
       "      <td>Tips for Women Beginning a Career in Tech - Co...</td>\n",
       "      <td>\\n\\n\\n\\n\\n\\nTips for Women Beginning a Career ...</td>\n",
       "    </tr>\n",
       "    <tr>\n",
       "      <th>4</th>\n",
       "      <td>What is Cloud Computing and AWS? - Codeup</td>\n",
       "      <td>\\n\\n\\n\\n\\n\\nWhat is Cloud Computing and AWS?\\n...</td>\n",
       "    </tr>\n",
       "  </tbody>\n",
       "</table>\n",
       "</div>"
      ],
      "text/plain": [
       "                                               title  \\\n",
       "0     Diversity Equity and Inclusion Report - Codeup   \n",
       "1  Codeup Honored as SABJ Diversity and Inclusion...   \n",
       "2   How Can I Finance My Career Transition? - Codeup   \n",
       "3  Tips for Women Beginning a Career in Tech - Co...   \n",
       "4          What is Cloud Computing and AWS? - Codeup   \n",
       "\n",
       "                                             content  \n",
       "0  \\n\\n\\n\\n\\n\\nDiversity Equity and Inclusion Rep...  \n",
       "1  \\n\\n\\n\\n\\n\\nCodeup Honored as SABJ Diversity a...  \n",
       "2  \\n\\n\\n\\n\\n\\nHow Can I Finance My Career Transi...  \n",
       "3  \\n\\n\\n\\n\\n\\nTips for Women Beginning a Career ...  \n",
       "4  \\n\\n\\n\\n\\n\\nWhat is Cloud Computing and AWS?\\n...  "
      ]
     },
     "execution_count": 60,
     "metadata": {},
     "output_type": "execute_result"
    }
   ],
   "source": [
    "pd.DataFrame(articles)"
   ]
  },
  {
   "cell_type": "code",
   "execution_count": 51,
   "id": "00c4a34a",
   "metadata": {},
   "outputs": [
    {
     "data": {
      "text/plain": [
       "'Diversity Equity and Inclusion Report - Codeup'"
      ]
     },
     "execution_count": 51,
     "metadata": {},
     "output_type": "execute_result"
    }
   ],
   "source": []
  },
  {
   "cell_type": "code",
   "execution_count": 52,
   "id": "190a03f2",
   "metadata": {},
   "outputs": [],
   "source": []
  },
  {
   "cell_type": "code",
   "execution_count": 53,
   "id": "85f144b2",
   "metadata": {},
   "outputs": [],
   "source": []
  },
  {
   "cell_type": "code",
   "execution_count": 54,
   "id": "958f3797",
   "metadata": {},
   "outputs": [
    {
     "data": {
      "text/plain": [
       "{'title': 'Diversity Equity and Inclusion Report - Codeup',\n",
       " 'content': '\\n\\n\\n\\n\\n\\nDiversity Equity and Inclusion Report\\nOct 7, 2022 | Codeup News\\n\\n\\nCodeup is excited to launch our first Diversity Equity, and Inclusion (DEI) report! In over eight years as an organization, we’ve implemented policies and grown our DEI efforts. We are extremely proud of the progress we’ve made as a staff and Codeup community, and we recognize there is more to learn. This report captures some of the ways that we’ve lived our value of Cultivating Inclusive Growth, and how we will continue doing so as we look to the future.\\nWe wanted to shine a light on the demographics of our students and staff, and in particular how that compares to the tech industry as a whole. How we collect, organize, and share employee demographic data is informed by standards set by the Equal Employment Opportunity Commission (EEOC).\\nWe are proud to celebrate how we’ve grown and are motivated and committed to do more and be better. To view the report visit the link here, or download it below.\\n\\n\\n\\n\\n\\n\\n\\n\\n\\nOur ProgramsCloud Administration\\nFull Stack Web Development\\nData Science\\n\\n\\n\\n\\n\\nLatest Blog Articles\\nDiversity Equity and Inclusion Report\\nCodeup Honored as SABJ Diversity and Inclusion Award Winner\\nHow Can I Finance My Career Transition?\\nTips for Women Beginning a Career in Tech\\nWhat is Cloud Computing and AWS?\\n\\n\\n\\n\\n\\n\\n\\n\\n\\n\\n\\n\\n\\n\\n\\n\\n\\n \\n\\n\\n'}"
      ]
     },
     "execution_count": 54,
     "metadata": {},
     "output_type": "execute_result"
    }
   ],
   "source": []
  },
  {
   "cell_type": "code",
   "execution_count": 9,
   "id": "115e3eef",
   "metadata": {},
   "outputs": [],
   "source": [
    "url = 'https://codeup.com/blog/'\n",
    "headers = {'User-Agent': 'Codeup Data Science'}\n",
    "response = get(url, headers=headers)\n",
    "soup = BeautifulSoup(response.content, 'html.parser')"
   ]
  },
  {
   "cell_type": "code",
   "execution_count": 10,
   "id": "4faa6c2d",
   "metadata": {},
   "outputs": [],
   "source": [
    "linklist = soup.find_all('h2')"
   ]
  },
  {
   "cell_type": "code",
   "execution_count": 11,
   "id": "8a51a677",
   "metadata": {},
   "outputs": [
    {
     "data": {
      "text/plain": [
       "'<h2 class=\"entry-title\"><a href=\"https://codeup.com/codeup-news/dei-report/\">Diversity Equity and Inclusion Report</a></h2>'"
      ]
     },
     "execution_count": 11,
     "metadata": {},
     "output_type": "execute_result"
    }
   ],
   "source": [
    "str(linklist[0])"
   ]
  },
  {
   "cell_type": "code",
   "execution_count": 12,
   "id": "0e7f9bb0",
   "metadata": {},
   "outputs": [
    {
     "data": {
      "text/plain": [
       "'https://codeup.com/codeup-news/dei-report/'"
      ]
     },
     "execution_count": 12,
     "metadata": {},
     "output_type": "execute_result"
    }
   ],
   "source": [
    "regexp = r'(http.+)\"'\n",
    "re.findall(regexp, str(linklist[0]))[0]"
   ]
  },
  {
   "cell_type": "code",
   "execution_count": 4,
   "id": "ec98f81d",
   "metadata": {},
   "outputs": [],
   "source": [
    "def get_blog_articles():\n",
    "    url = 'https://codeup.com/blog/'\n",
    "    headers = {'User-Agent': 'Codeup Data Science'}\n",
    "    response = get(url, headers=headers)\n",
    "    soup = BeautifulSoup(response.content, 'html.parser')\n",
    "    articles = []\n",
    "    regexp = r'(http.+)\"'\n",
    "\n",
    "    for link in soup.find_all('h2')[0:6]:\n",
    "        blog_url = re.findall(regexp, str(link))[0]\n",
    "        print(blog_url)\n",
    "        response2 = get(blog_url, headers=headers)\n",
    "        soup2 = BeautifulSoup(response2.content, 'html.parser')\n",
    "        content = soup2.find('div', id='main-content').text\n",
    "        articles.append({'title' : soup2.title.string, 'content' : content})\n",
    "    return articles"
   ]
  },
  {
   "cell_type": "code",
   "execution_count": 5,
   "id": "1a0adb5c",
   "metadata": {},
   "outputs": [
    {
     "name": "stdout",
     "output_type": "stream",
     "text": [
      "https://codeup.com/codeup-news/dei-report/\n",
      "https://codeup.com/codeup-news/diversity-and-inclusion-award/\n",
      "https://codeup.com/featured/financing-career-transition/\n",
      "https://codeup.com/tips-for-prospective-students/tips-for-women/\n",
      "https://codeup.com/cloud-administration/cloud-computing-and-aws/\n",
      "https://codeup.com/codeup-news/c-suite-award-stephen-noteboom/\n"
     ]
    },
    {
     "data": {
      "text/html": [
       "<div>\n",
       "<style scoped>\n",
       "    .dataframe tbody tr th:only-of-type {\n",
       "        vertical-align: middle;\n",
       "    }\n",
       "\n",
       "    .dataframe tbody tr th {\n",
       "        vertical-align: top;\n",
       "    }\n",
       "\n",
       "    .dataframe thead th {\n",
       "        text-align: right;\n",
       "    }\n",
       "</style>\n",
       "<table border=\"1\" class=\"dataframe\">\n",
       "  <thead>\n",
       "    <tr style=\"text-align: right;\">\n",
       "      <th></th>\n",
       "      <th>title</th>\n",
       "      <th>content</th>\n",
       "    </tr>\n",
       "  </thead>\n",
       "  <tbody>\n",
       "    <tr>\n",
       "      <th>0</th>\n",
       "      <td>Diversity Equity and Inclusion Report - Codeup</td>\n",
       "      <td>\\n\\n\\n\\n\\n\\nDiversity Equity and Inclusion Rep...</td>\n",
       "    </tr>\n",
       "    <tr>\n",
       "      <th>1</th>\n",
       "      <td>Codeup Honored as SABJ Diversity and Inclusion...</td>\n",
       "      <td>\\n\\n\\n\\n\\n\\nCodeup Honored as SABJ Diversity a...</td>\n",
       "    </tr>\n",
       "    <tr>\n",
       "      <th>2</th>\n",
       "      <td>How Can I Finance My Career Transition? - Codeup</td>\n",
       "      <td>\\n\\n\\n\\n\\n\\nHow Can I Finance My Career Transi...</td>\n",
       "    </tr>\n",
       "    <tr>\n",
       "      <th>3</th>\n",
       "      <td>Tips for Women Beginning a Career in Tech - Co...</td>\n",
       "      <td>\\n\\n\\n\\n\\n\\nTips for Women Beginning a Career ...</td>\n",
       "    </tr>\n",
       "    <tr>\n",
       "      <th>4</th>\n",
       "      <td>What is Cloud Computing and AWS? - Codeup</td>\n",
       "      <td>\\n\\n\\n\\n\\n\\nWhat is Cloud Computing and AWS?\\n...</td>\n",
       "    </tr>\n",
       "    <tr>\n",
       "      <th>5</th>\n",
       "      <td>2022 SABJ C-Suite Award Winner: Stephen Notebo...</td>\n",
       "      <td>\\n\\n\\n\\n\\n\\n2022 SABJ C-Suite Award Winner: St...</td>\n",
       "    </tr>\n",
       "  </tbody>\n",
       "</table>\n",
       "</div>"
      ],
      "text/plain": [
       "                                               title  \\\n",
       "0     Diversity Equity and Inclusion Report - Codeup   \n",
       "1  Codeup Honored as SABJ Diversity and Inclusion...   \n",
       "2   How Can I Finance My Career Transition? - Codeup   \n",
       "3  Tips for Women Beginning a Career in Tech - Co...   \n",
       "4          What is Cloud Computing and AWS? - Codeup   \n",
       "5  2022 SABJ C-Suite Award Winner: Stephen Notebo...   \n",
       "\n",
       "                                             content  \n",
       "0  \\n\\n\\n\\n\\n\\nDiversity Equity and Inclusion Rep...  \n",
       "1  \\n\\n\\n\\n\\n\\nCodeup Honored as SABJ Diversity a...  \n",
       "2  \\n\\n\\n\\n\\n\\nHow Can I Finance My Career Transi...  \n",
       "3  \\n\\n\\n\\n\\n\\nTips for Women Beginning a Career ...  \n",
       "4  \\n\\n\\n\\n\\n\\nWhat is Cloud Computing and AWS?\\n...  \n",
       "5  \\n\\n\\n\\n\\n\\n2022 SABJ C-Suite Award Winner: St...  "
      ]
     },
     "execution_count": 5,
     "metadata": {},
     "output_type": "execute_result"
    }
   ],
   "source": [
    "df = pd.DataFrame(get_blog_articles())\n",
    "df"
   ]
  },
  {
   "cell_type": "code",
   "execution_count": null,
   "id": "78c3f275",
   "metadata": {},
   "outputs": [],
   "source": []
  },
  {
   "cell_type": "code",
   "execution_count": 1,
   "id": "37698b3c",
   "metadata": {},
   "outputs": [],
   "source": [
    "import acquire"
   ]
  },
  {
   "cell_type": "code",
   "execution_count": 2,
   "id": "c5cd100a",
   "metadata": {},
   "outputs": [
    {
     "name": "stdout",
     "output_type": "stream",
     "text": [
      "https://codeup.com/codeup-news/dei-report/\n",
      "https://codeup.com/codeup-news/diversity-and-inclusion-award/\n",
      "https://codeup.com/featured/financing-career-transition/\n",
      "https://codeup.com/tips-for-prospective-students/tips-for-women/\n",
      "https://codeup.com/cloud-administration/cloud-computing-and-aws/\n",
      "https://codeup.com/codeup-news/c-suite-award-stephen-noteboom/\n"
     ]
    },
    {
     "ename": "AttributeError",
     "evalue": "'list' object has no attribute 'head'",
     "output_type": "error",
     "traceback": [
      "\u001b[0;31m---------------------------------------------------------------------------\u001b[0m",
      "\u001b[0;31mAttributeError\u001b[0m                            Traceback (most recent call last)",
      "Input \u001b[0;32mIn [2]\u001b[0m, in \u001b[0;36m<cell line: 2>\u001b[0;34m()\u001b[0m\n\u001b[1;32m      1\u001b[0m df \u001b[38;5;241m=\u001b[39m acquire\u001b[38;5;241m.\u001b[39mget_blog_articles()\n\u001b[0;32m----> 2\u001b[0m \u001b[43mdf\u001b[49m\u001b[38;5;241;43m.\u001b[39;49m\u001b[43mhead\u001b[49m()\n",
      "\u001b[0;31mAttributeError\u001b[0m: 'list' object has no attribute 'head'"
     ]
    }
   ],
   "source": [
    "articles = acquire.get_blog_articles()\n",
    "df.head()"
   ]
  },
  {
   "cell_type": "code",
   "execution_count": null,
   "id": "d4b11fff",
   "metadata": {},
   "outputs": [],
   "source": []
  }
 ],
 "metadata": {
  "kernelspec": {
   "display_name": "Python 3 (ipykernel)",
   "language": "python",
   "name": "python3"
  },
  "language_info": {
   "codemirror_mode": {
    "name": "ipython",
    "version": 3
   },
   "file_extension": ".py",
   "mimetype": "text/x-python",
   "name": "python",
   "nbconvert_exporter": "python",
   "pygments_lexer": "ipython3",
   "version": "3.9.12"
  }
 },
 "nbformat": 4,
 "nbformat_minor": 5
}
