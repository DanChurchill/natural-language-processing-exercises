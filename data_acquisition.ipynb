{
 "cells": [
  {
   "cell_type": "code",
   "execution_count": 61,
   "id": "f8638ffb",
   "metadata": {},
   "outputs": [],
   "source": [
    "from requests import get\n",
    "from bs4 import BeautifulSoup\n",
    "import os\n",
    "import re\n",
    "import pandas as pd"
   ]
  },
  {
   "cell_type": "code",
   "execution_count": 7,
   "id": "371b51db",
   "metadata": {},
   "outputs": [],
   "source": [
    "url = 'https://codeup.com/data-science/math-in-data-science/'\n",
    "headers = {'User-Agent': 'Codeup Data Science'}\n",
    "response = get(url, headers=headers)"
   ]
  },
  {
   "cell_type": "code",
   "execution_count": 8,
   "id": "9e35f4fb",
   "metadata": {},
   "outputs": [
    {
     "name": "stdout",
     "output_type": "stream",
     "text": [
      "<!DOCTYPE html>\n",
      "<html lang=\"en-US\">\n",
      "<head>\n",
      "\t<meta charset=\"UTF-8\" />\n",
      "<meta http-equiv=\"X-UA-Compatible\" content=\"IE=edge\">\n",
      "\t<link rel=\"pingback\" href=\"https://codeup.com/xmlrpc.php\" />\n",
      "\n",
      "\t<script type=\"text/javascript\">\n",
      "\t\tdocument.documentElement.className = 'js';\n",
      "\t</script>\n",
      "\t\n",
      "\t<link rel=\"preconnect\" href=\"https://fonts.gstatic.com\" crossorigin /><script id=\"diviarea-loader\">window.DiviPopupData=wi\n"
     ]
    }
   ],
   "source": [
    "print(response.text[:400])"
   ]
  },
  {
   "cell_type": "code",
   "execution_count": 9,
   "id": "979de808",
   "metadata": {},
   "outputs": [],
   "source": [
    "soup = BeautifulSoup(response.content, 'html.parser')"
   ]
  },
  {
   "cell_type": "code",
   "execution_count": 23,
   "id": "6c0017d4",
   "metadata": {},
   "outputs": [
    {
     "data": {
      "text/plain": [
       "<h1 class=\"entry-title\">What are the Math and Stats Principles You Need for Data Science?</h1>"
      ]
     },
     "execution_count": 23,
     "metadata": {},
     "output_type": "execute_result"
    }
   ],
   "source": [
    "soup.find('h1')"
   ]
  },
  {
   "cell_type": "code",
   "execution_count": 26,
   "id": "7e8f0e23",
   "metadata": {},
   "outputs": [
    {
     "data": {
      "text/plain": [
       "'\\n\\n\\n\\n\\n\\nWhat are the Math and Stats Principles You Need for Data Science?\\nOct 21, 2020 | Data Science\\n\\n\\nComing into our Data Science program, you will need to know some math and stats. However, many of our applicants actually learn in the application process – you don’t need to be an expert before applying! Data science is a very accessible field to anyone dedicated to learning new skills, and we can work with any applicant to help them learn what they need to know. But what “skills” do we mean, exactly? Just what exactly are the data science math and stats principles you need to know?\\nWhat are the main math principles you need to know to get into Codeup’s Data Science program?\\n\\n\\nAlgebra\\nDo you know PEMDAS and can you solve for x? You will need to be or become comfortable with the following:\\xa0\\n\\nVariables (x, y, n, etc.)\\nFormulas, functions, and variable manipulations (e.g. x^2 = x + 6, solve for x).\\nOrder of evaluation: PEMDAS: parentheses, exponents, then multiplication, division, addition, and subtraction\\nCommutativity where a + b = b + a\\nAssociativity where a + (b + c) = (a + b) + c\\nAdding and subtracting matrices\\nA conceptual understanding of exponential growth/decay- things can increase at an increasing rate\\n\\nDescriptive Statistics\\nKnow what a min, max, mode, median, and average are. Have a conceptual understanding that stats/probability is about trying to quantify uncertainty.\\nData Visualization\\nKnow what a scatterplot is and how to read a barplot.\\nHow to Learn and Expand on These Concepts\\nThere are a number of great resources out there to teach you these and similar concepts. Khan Academy is a great starting place for data science math! If you want to know what exactly we assign our applicants, you’ll just have to apply!\\n\\xa0\\nWhat about once you’re in Codeup?\\n\\n\\nWhat You Won’t Do\\nDo we do any mathematical proofs for concepts or perform derivations? No.\\xa0\\nDo we do any calculus and probability calculating by hand? No.\\nAre we transforming equations, where we cancel out units or terms and do lots of algebraic gymnastics? No\\nWhat You Will Do\\nWill we have Python solve our linear algebra problems for us? Yes\\nWill we have Python calculate probabilities, the area under a curve, and the slope of a line for us? Yes\\nWill we have Python do all of the calculus for us? Yes\\n\\xa0\\nSee, the data science math and stats slice of the pie is certainly doable. If you like problem-solving and are ready to challenge yourself, you’ll love data science! If you are interested in learning about data science, just apply! Our Admissions Manager can work with you to get you where you need to be starting from where you are now. Let us help you get there so you can launch a great new career.\\n\\n\\n\\n\\n\\n\\n\\n\\nOur ProgramsCloud Administration\\nFull Stack Web Development\\nData Science\\n\\n\\n\\n\\n\\nLatest Blog Articles\\nDiversity Equity and Inclusion Report\\nCodeup Honored as SABJ Diversity and Inclusion Award Winner\\nHow Can I Finance My Career Transition?\\nTips for Women Beginning a Career in Tech\\nWhat is Cloud Computing and AWS?\\n\\n\\n\\n\\n\\n\\n\\n\\n\\n\\n\\n\\n\\n\\n\\n\\n\\n \\n\\n\\n'"
      ]
     },
     "execution_count": 26,
     "metadata": {},
     "output_type": "execute_result"
    }
   ],
   "source": [
    "article = soup.find('div', id='main-content')\n",
    "article.text"
   ]
  },
  {
   "cell_type": "code",
   "execution_count": 27,
   "id": "72b58f61",
   "metadata": {},
   "outputs": [],
   "source": [
    "with open('article.txt', 'w') as f:\n",
    "    f.write(article.text)"
   ]
  },
  {
   "cell_type": "code",
   "execution_count": 28,
   "id": "37c713a9",
   "metadata": {},
   "outputs": [],
   "source": [
    "def get_article_text():\n",
    "    if path.exists('article.txt'):\n",
    "        with open('article.txt') as f:\n",
    "            return f.read()\n",
    "        \n",
    "    url = url = 'https://codeup.com/data-science/math-in-data-science/'\n",
    "    headers = {'User-Agent': 'Codeup Data Science'}\n",
    "    response = get(url, headers=headers)\n",
    "    soup = BeautifulSoup(response.text)\n",
    "    article = soup.find('div', id='main-content')\n",
    "    \n",
    "    with open('article.txt', 'w') as f:\n",
    "        f.write(article.txt)\n",
    "        \n",
    "    return article.txt"
   ]
  },
  {
   "cell_type": "code",
   "execution_count": 62,
   "id": "1b1c773c",
   "metadata": {},
   "outputs": [],
   "source": [
    "url1 = 'https://codeup.com/codeup-news/dei-report/'\n",
    "url2 = 'https://codeup.com/codeup-news/diversity-and-inclusion-award/'\n",
    "url3 = 'https://codeup.com/featured/financing-career-transition/'\n",
    "url4 = 'https://codeup.com/tips-for-prospective-students/tips-for-women/'\n",
    "url5 = 'https://codeup.com/cloud-administration/cloud-computing-and-aws/'\n",
    "url_list = [url1, url2, url3, url4, url5]\n",
    "headers = {'User-Agent': 'Codeup Data Science'}\n",
    "articles = []"
   ]
  },
  {
   "cell_type": "code",
   "execution_count": 63,
   "id": "771c051d",
   "metadata": {},
   "outputs": [],
   "source": [
    "for url in url_list:\n",
    "    response = get(url, headers=headers)\n",
    "    soup = BeautifulSoup(response.content, 'html.parser')\n",
    "    content = soup.find('div', id='main-content').text\n",
    "    articles.append({'title' : soup.title.string, 'content' : content})"
   ]
  },
  {
   "cell_type": "code",
   "execution_count": 64,
   "id": "99595790",
   "metadata": {},
   "outputs": [
    {
     "data": {
      "text/html": [
       "<div>\n",
       "<style scoped>\n",
       "    .dataframe tbody tr th:only-of-type {\n",
       "        vertical-align: middle;\n",
       "    }\n",
       "\n",
       "    .dataframe tbody tr th {\n",
       "        vertical-align: top;\n",
       "    }\n",
       "\n",
       "    .dataframe thead th {\n",
       "        text-align: right;\n",
       "    }\n",
       "</style>\n",
       "<table border=\"1\" class=\"dataframe\">\n",
       "  <thead>\n",
       "    <tr style=\"text-align: right;\">\n",
       "      <th></th>\n",
       "      <th>title</th>\n",
       "      <th>content</th>\n",
       "    </tr>\n",
       "  </thead>\n",
       "  <tbody>\n",
       "    <tr>\n",
       "      <th>0</th>\n",
       "      <td>Diversity Equity and Inclusion Report - Codeup</td>\n",
       "      <td>\\n\\n\\n\\n\\n\\nDiversity Equity and Inclusion Rep...</td>\n",
       "    </tr>\n",
       "    <tr>\n",
       "      <th>1</th>\n",
       "      <td>Codeup Honored as SABJ Diversity and Inclusion...</td>\n",
       "      <td>\\n\\n\\n\\n\\n\\nCodeup Honored as SABJ Diversity a...</td>\n",
       "    </tr>\n",
       "    <tr>\n",
       "      <th>2</th>\n",
       "      <td>How Can I Finance My Career Transition? - Codeup</td>\n",
       "      <td>\\n\\n\\n\\n\\n\\nHow Can I Finance My Career Transi...</td>\n",
       "    </tr>\n",
       "    <tr>\n",
       "      <th>3</th>\n",
       "      <td>Tips for Women Beginning a Career in Tech - Co...</td>\n",
       "      <td>\\n\\n\\n\\n\\n\\nTips for Women Beginning a Career ...</td>\n",
       "    </tr>\n",
       "    <tr>\n",
       "      <th>4</th>\n",
       "      <td>What is Cloud Computing and AWS? - Codeup</td>\n",
       "      <td>\\n\\n\\n\\n\\n\\nWhat is Cloud Computing and AWS?\\n...</td>\n",
       "    </tr>\n",
       "  </tbody>\n",
       "</table>\n",
       "</div>"
      ],
      "text/plain": [
       "                                               title  \\\n",
       "0     Diversity Equity and Inclusion Report - Codeup   \n",
       "1  Codeup Honored as SABJ Diversity and Inclusion...   \n",
       "2   How Can I Finance My Career Transition? - Codeup   \n",
       "3  Tips for Women Beginning a Career in Tech - Co...   \n",
       "4          What is Cloud Computing and AWS? - Codeup   \n",
       "\n",
       "                                             content  \n",
       "0  \\n\\n\\n\\n\\n\\nDiversity Equity and Inclusion Rep...  \n",
       "1  \\n\\n\\n\\n\\n\\nCodeup Honored as SABJ Diversity a...  \n",
       "2  \\n\\n\\n\\n\\n\\nHow Can I Finance My Career Transi...  \n",
       "3  \\n\\n\\n\\n\\n\\nTips for Women Beginning a Career ...  \n",
       "4  \\n\\n\\n\\n\\n\\nWhat is Cloud Computing and AWS?\\n...  "
      ]
     },
     "execution_count": 64,
     "metadata": {},
     "output_type": "execute_result"
    }
   ],
   "source": [
    "pd.DataFrame(articles)"
   ]
  },
  {
   "cell_type": "code",
   "execution_count": 51,
   "id": "e94149ef",
   "metadata": {},
   "outputs": [
    {
     "data": {
      "text/plain": [
       "'Diversity Equity and Inclusion Report - Codeup'"
      ]
     },
     "execution_count": 51,
     "metadata": {},
     "output_type": "execute_result"
    }
   ],
   "source": []
  },
  {
   "cell_type": "code",
   "execution_count": 52,
   "id": "885ed9a4",
   "metadata": {},
   "outputs": [],
   "source": []
  },
  {
   "cell_type": "code",
   "execution_count": 53,
   "id": "c465e790",
   "metadata": {},
   "outputs": [],
   "source": []
  },
  {
   "cell_type": "code",
   "execution_count": 54,
   "id": "29235e0b",
   "metadata": {},
   "outputs": [
    {
     "data": {
      "text/plain": [
       "{'title': 'Diversity Equity and Inclusion Report - Codeup',\n",
       " 'content': '\\n\\n\\n\\n\\n\\nDiversity Equity and Inclusion Report\\nOct 7, 2022 | Codeup News\\n\\n\\nCodeup is excited to launch our first Diversity Equity, and Inclusion (DEI) report! In over eight years as an organization, we’ve implemented policies and grown our DEI efforts. We are extremely proud of the progress we’ve made as a staff and Codeup community, and we recognize there is more to learn. This report captures some of the ways that we’ve lived our value of Cultivating Inclusive Growth, and how we will continue doing so as we look to the future.\\nWe wanted to shine a light on the demographics of our students and staff, and in particular how that compares to the tech industry as a whole. How we collect, organize, and share employee demographic data is informed by standards set by the Equal Employment Opportunity Commission (EEOC).\\nWe are proud to celebrate how we’ve grown and are motivated and committed to do more and be better. To view the report visit the link here, or download it below.\\n\\n\\n\\n\\n\\n\\n\\n\\n\\nOur ProgramsCloud Administration\\nFull Stack Web Development\\nData Science\\n\\n\\n\\n\\n\\nLatest Blog Articles\\nDiversity Equity and Inclusion Report\\nCodeup Honored as SABJ Diversity and Inclusion Award Winner\\nHow Can I Finance My Career Transition?\\nTips for Women Beginning a Career in Tech\\nWhat is Cloud Computing and AWS?\\n\\n\\n\\n\\n\\n\\n\\n\\n\\n\\n\\n\\n\\n\\n\\n\\n\\n \\n\\n\\n'}"
      ]
     },
     "execution_count": 54,
     "metadata": {},
     "output_type": "execute_result"
    }
   ],
   "source": []
  },
  {
   "cell_type": "code",
   "execution_count": 9,
   "id": "c28e821d",
   "metadata": {},
   "outputs": [],
   "source": [
    "url = 'https://codeup.com/blog/'\n",
    "headers = {'User-Agent': 'Codeup Data Science'}\n",
    "response = get(url, headers=headers)\n",
    "soup = BeautifulSoup(response.content, 'html.parser')"
   ]
  },
  {
   "cell_type": "code",
   "execution_count": 10,
   "id": "f7159334",
   "metadata": {},
   "outputs": [],
   "source": [
    "linklist = soup.find_all('h2')"
   ]
  },
  {
   "cell_type": "code",
   "execution_count": 11,
   "id": "c4ebfcb3",
   "metadata": {},
   "outputs": [
    {
     "data": {
      "text/plain": [
       "'<h2 class=\"entry-title\"><a href=\"https://codeup.com/codeup-news/dei-report/\">Diversity Equity and Inclusion Report</a></h2>'"
      ]
     },
     "execution_count": 11,
     "metadata": {},
     "output_type": "execute_result"
    }
   ],
   "source": [
    "str(linklist[0])"
   ]
  },
  {
   "cell_type": "code",
   "execution_count": 12,
   "id": "b66c2ed5",
   "metadata": {},
   "outputs": [
    {
     "data": {
      "text/plain": [
       "'https://codeup.com/codeup-news/dei-report/'"
      ]
     },
     "execution_count": 12,
     "metadata": {},
     "output_type": "execute_result"
    }
   ],
   "source": [
    "regexp = r'(http.+)\"'\n",
    "re.findall(regexp, str(linklist[0]))[0]"
   ]
  },
  {
   "cell_type": "code",
   "execution_count": 67,
   "id": "2e234a5d",
   "metadata": {},
   "outputs": [],
   "source": [
    "def get_blog_articles():\n",
    "    url = 'https://codeup.com/blog/'\n",
    "    headers = {'User-Agent': 'Codeup Data Science'}\n",
    "    response = get(url, headers=headers)\n",
    "    soup = BeautifulSoup(response.content, 'html.parser')\n",
    "    articles = []\n",
    "    regexp = r'(http.+)\"'\n",
    "\n",
    "    for link in soup.find_all('h2')[0:6]:\n",
    "        blog_url = re.findall(regexp, str(link))[0]\n",
    "        response2 = get(blog_url, headers=headers)\n",
    "        soup2 = BeautifulSoup(response2.content, 'html.parser')\n",
    "        content = soup2.find('div', id='main-content').text.strip()\n",
    "        articles.append({'title' : soup2.title.string, 'content' : content})\n",
    "    return articles"
   ]
  },
  {
   "cell_type": "code",
   "execution_count": 66,
   "id": "8fa90b4c",
   "metadata": {},
   "outputs": [
    {
     "name": "stdout",
     "output_type": "stream",
     "text": [
      "https://codeup.com/codeup-news/dei-report/\n",
      "https://codeup.com/codeup-news/diversity-and-inclusion-award/\n",
      "https://codeup.com/featured/financing-career-transition/\n",
      "https://codeup.com/tips-for-prospective-students/tips-for-women/\n",
      "https://codeup.com/cloud-administration/cloud-computing-and-aws/\n",
      "https://codeup.com/codeup-news/c-suite-award-stephen-noteboom/\n"
     ]
    },
    {
     "data": {
      "text/html": [
       "<div>\n",
       "<style scoped>\n",
       "    .dataframe tbody tr th:only-of-type {\n",
       "        vertical-align: middle;\n",
       "    }\n",
       "\n",
       "    .dataframe tbody tr th {\n",
       "        vertical-align: top;\n",
       "    }\n",
       "\n",
       "    .dataframe thead th {\n",
       "        text-align: right;\n",
       "    }\n",
       "</style>\n",
       "<table border=\"1\" class=\"dataframe\">\n",
       "  <thead>\n",
       "    <tr style=\"text-align: right;\">\n",
       "      <th></th>\n",
       "      <th>title</th>\n",
       "      <th>content</th>\n",
       "    </tr>\n",
       "  </thead>\n",
       "  <tbody>\n",
       "    <tr>\n",
       "      <th>0</th>\n",
       "      <td>Diversity Equity and Inclusion Report - Codeup</td>\n",
       "      <td>Diversity Equity and Inclusion Report\\nOct 7, ...</td>\n",
       "    </tr>\n",
       "    <tr>\n",
       "      <th>1</th>\n",
       "      <td>Codeup Honored as SABJ Diversity and Inclusion...</td>\n",
       "      <td>Codeup Honored as SABJ Diversity and Inclusion...</td>\n",
       "    </tr>\n",
       "    <tr>\n",
       "      <th>2</th>\n",
       "      <td>How Can I Finance My Career Transition? - Codeup</td>\n",
       "      <td>How Can I Finance My Career Transition?\\nSep 2...</td>\n",
       "    </tr>\n",
       "    <tr>\n",
       "      <th>3</th>\n",
       "      <td>Tips for Women Beginning a Career in Tech - Co...</td>\n",
       "      <td>Tips for Women Beginning a Career in Tech\\nSep...</td>\n",
       "    </tr>\n",
       "    <tr>\n",
       "      <th>4</th>\n",
       "      <td>What is Cloud Computing and AWS? - Codeup</td>\n",
       "      <td>What is Cloud Computing and AWS?\\nSep 13, 2022...</td>\n",
       "    </tr>\n",
       "    <tr>\n",
       "      <th>5</th>\n",
       "      <td>2022 SABJ C-Suite Award Winner: Stephen Notebo...</td>\n",
       "      <td>2022 SABJ C-Suite Award Winner: Stephen Notebo...</td>\n",
       "    </tr>\n",
       "  </tbody>\n",
       "</table>\n",
       "</div>"
      ],
      "text/plain": [
       "                                               title  \\\n",
       "0     Diversity Equity and Inclusion Report - Codeup   \n",
       "1  Codeup Honored as SABJ Diversity and Inclusion...   \n",
       "2   How Can I Finance My Career Transition? - Codeup   \n",
       "3  Tips for Women Beginning a Career in Tech - Co...   \n",
       "4          What is Cloud Computing and AWS? - Codeup   \n",
       "5  2022 SABJ C-Suite Award Winner: Stephen Notebo...   \n",
       "\n",
       "                                             content  \n",
       "0  Diversity Equity and Inclusion Report\\nOct 7, ...  \n",
       "1  Codeup Honored as SABJ Diversity and Inclusion...  \n",
       "2  How Can I Finance My Career Transition?\\nSep 2...  \n",
       "3  Tips for Women Beginning a Career in Tech\\nSep...  \n",
       "4  What is Cloud Computing and AWS?\\nSep 13, 2022...  \n",
       "5  2022 SABJ C-Suite Award Winner: Stephen Notebo...  "
      ]
     },
     "execution_count": 66,
     "metadata": {},
     "output_type": "execute_result"
    }
   ],
   "source": [
    "df = pd.DataFrame(get_blog_articles())\n",
    "df"
   ]
  },
  {
   "cell_type": "code",
   "execution_count": null,
   "id": "f6957719",
   "metadata": {},
   "outputs": [],
   "source": []
  },
  {
   "cell_type": "code",
   "execution_count": 5,
   "id": "3c266ee9",
   "metadata": {},
   "outputs": [],
   "source": [
    "import acquire\n",
    "import pandas as pd"
   ]
  },
  {
   "cell_type": "code",
   "execution_count": 6,
   "id": "a7450123",
   "metadata": {},
   "outputs": [
    {
     "name": "stdout",
     "output_type": "stream",
     "text": [
      "https://codeup.com/codeup-news/dei-report/\n",
      "https://codeup.com/codeup-news/diversity-and-inclusion-award/\n",
      "https://codeup.com/featured/financing-career-transition/\n",
      "https://codeup.com/tips-for-prospective-students/tips-for-women/\n",
      "https://codeup.com/cloud-administration/cloud-computing-and-aws/\n",
      "https://codeup.com/codeup-news/c-suite-award-stephen-noteboom/\n"
     ]
    },
    {
     "data": {
      "text/html": [
       "<div>\n",
       "<style scoped>\n",
       "    .dataframe tbody tr th:only-of-type {\n",
       "        vertical-align: middle;\n",
       "    }\n",
       "\n",
       "    .dataframe tbody tr th {\n",
       "        vertical-align: top;\n",
       "    }\n",
       "\n",
       "    .dataframe thead th {\n",
       "        text-align: right;\n",
       "    }\n",
       "</style>\n",
       "<table border=\"1\" class=\"dataframe\">\n",
       "  <thead>\n",
       "    <tr style=\"text-align: right;\">\n",
       "      <th></th>\n",
       "      <th>title</th>\n",
       "      <th>content</th>\n",
       "    </tr>\n",
       "  </thead>\n",
       "  <tbody>\n",
       "    <tr>\n",
       "      <th>0</th>\n",
       "      <td>Diversity Equity and Inclusion Report - Codeup</td>\n",
       "      <td>\\n\\n\\n\\n\\n\\nDiversity Equity and Inclusion Rep...</td>\n",
       "    </tr>\n",
       "    <tr>\n",
       "      <th>1</th>\n",
       "      <td>Codeup Honored as SABJ Diversity and Inclusion...</td>\n",
       "      <td>\\n\\n\\n\\n\\n\\nCodeup Honored as SABJ Diversity a...</td>\n",
       "    </tr>\n",
       "    <tr>\n",
       "      <th>2</th>\n",
       "      <td>How Can I Finance My Career Transition? - Codeup</td>\n",
       "      <td>\\n\\n\\n\\n\\n\\nHow Can I Finance My Career Transi...</td>\n",
       "    </tr>\n",
       "    <tr>\n",
       "      <th>3</th>\n",
       "      <td>Tips for Women Beginning a Career in Tech - Co...</td>\n",
       "      <td>\\n\\n\\n\\n\\n\\nTips for Women Beginning a Career ...</td>\n",
       "    </tr>\n",
       "    <tr>\n",
       "      <th>4</th>\n",
       "      <td>What is Cloud Computing and AWS? - Codeup</td>\n",
       "      <td>\\n\\n\\n\\n\\n\\nWhat is Cloud Computing and AWS?\\n...</td>\n",
       "    </tr>\n",
       "    <tr>\n",
       "      <th>5</th>\n",
       "      <td>2022 SABJ C-Suite Award Winner: Stephen Notebo...</td>\n",
       "      <td>\\n\\n\\n\\n\\n\\n2022 SABJ C-Suite Award Winner: St...</td>\n",
       "    </tr>\n",
       "  </tbody>\n",
       "</table>\n",
       "</div>"
      ],
      "text/plain": [
       "                                               title  \\\n",
       "0     Diversity Equity and Inclusion Report - Codeup   \n",
       "1  Codeup Honored as SABJ Diversity and Inclusion...   \n",
       "2   How Can I Finance My Career Transition? - Codeup   \n",
       "3  Tips for Women Beginning a Career in Tech - Co...   \n",
       "4          What is Cloud Computing and AWS? - Codeup   \n",
       "5  2022 SABJ C-Suite Award Winner: Stephen Notebo...   \n",
       "\n",
       "                                             content  \n",
       "0  \\n\\n\\n\\n\\n\\nDiversity Equity and Inclusion Rep...  \n",
       "1  \\n\\n\\n\\n\\n\\nCodeup Honored as SABJ Diversity a...  \n",
       "2  \\n\\n\\n\\n\\n\\nHow Can I Finance My Career Transi...  \n",
       "3  \\n\\n\\n\\n\\n\\nTips for Women Beginning a Career ...  \n",
       "4  \\n\\n\\n\\n\\n\\nWhat is Cloud Computing and AWS?\\n...  \n",
       "5  \\n\\n\\n\\n\\n\\n2022 SABJ C-Suite Award Winner: St...  "
      ]
     },
     "execution_count": 6,
     "metadata": {},
     "output_type": "execute_result"
    }
   ],
   "source": [
    "articles = acquire.get_blog_articles()\n",
    "pd.DataFrame(articles)"
   ]
  },
  {
   "cell_type": "markdown",
   "id": "c7186b87",
   "metadata": {},
   "source": [
    "# News Articles"
   ]
  },
  {
   "cell_type": "code",
   "execution_count": 100,
   "id": "2b039fc4",
   "metadata": {},
   "outputs": [],
   "source": []
  },
  {
   "cell_type": "code",
   "execution_count": 153,
   "id": "4bb5c35d",
   "metadata": {},
   "outputs": [],
   "source": [
    "\n",
    "articles = []\n",
    "\n",
    "home_url = 'https://inshorts.com/en/read/'\n",
    "cat_list = ['technology', 'sports', 'technology', 'entertainment']\n",
    "for cat in cat_list:\n",
    "    response = get(home_url+cat)\n",
    "    soup = BeautifulSoup(response.content, 'html.parser')    \n",
    "    titles = soup.select('div.news-card-title.news-right-box')\n",
    "    contents = soup.select('div.news-card-content.news-right-box')\n",
    "\n",
    "    regexp = r'(.+?)\\n\\n'\n",
    "    for i in range(len(titles)):\n",
    "        content = re.findall(regexp, contents[i].text.strip())\n",
    "        title = re.findall(regexp, titles[i].text.strip())\n",
    "        articles.append({'title' : title[0], 'content' : content[0], 'category' : cat})\n",
    "\n"
   ]
  },
  {
   "cell_type": "code",
   "execution_count": 154,
   "id": "ecdf0514",
   "metadata": {},
   "outputs": [
    {
     "data": {
      "text/html": [
       "<div>\n",
       "<style scoped>\n",
       "    .dataframe tbody tr th:only-of-type {\n",
       "        vertical-align: middle;\n",
       "    }\n",
       "\n",
       "    .dataframe tbody tr th {\n",
       "        vertical-align: top;\n",
       "    }\n",
       "\n",
       "    .dataframe thead th {\n",
       "        text-align: right;\n",
       "    }\n",
       "</style>\n",
       "<table border=\"1\" class=\"dataframe\">\n",
       "  <thead>\n",
       "    <tr style=\"text-align: right;\">\n",
       "      <th></th>\n",
       "      <th>title</th>\n",
       "      <th>content</th>\n",
       "      <th>category</th>\n",
       "    </tr>\n",
       "  </thead>\n",
       "  <tbody>\n",
       "    <tr>\n",
       "      <th>0</th>\n",
       "      <td>Robot addresses UK Parliament, says 'Although ...</td>\n",
       "      <td>A 'robot artist' called Ai-Da interacted with ...</td>\n",
       "      <td>technology</td>\n",
       "    </tr>\n",
       "    <tr>\n",
       "      <th>1</th>\n",
       "      <td>Russia adds Meta to its list of 'terrorist and...</td>\n",
       "      <td>Russia's financial monitoring agency, Rosfinmo...</td>\n",
       "      <td>technology</td>\n",
       "    </tr>\n",
       "    <tr>\n",
       "      <th>2</th>\n",
       "      <td>I have spoken to Putin only once and that was ...</td>\n",
       "      <td>Elon Musk on Tuesday tweeted, \"I have spoken t...</td>\n",
       "      <td>technology</td>\n",
       "    </tr>\n",
       "    <tr>\n",
       "      <th>3</th>\n",
       "      <td>Wipro's net employee addition falls to 605, at...</td>\n",
       "      <td>IT services firm Wipro on Wednesday said its n...</td>\n",
       "      <td>technology</td>\n",
       "    </tr>\n",
       "    <tr>\n",
       "      <th>4</th>\n",
       "      <td>Intel plans to cut thousands of jobs amid PC m...</td>\n",
       "      <td>Chipmaker Intel is planning to cut thousands o...</td>\n",
       "      <td>technology</td>\n",
       "    </tr>\n",
       "    <tr>\n",
       "      <th>...</th>\n",
       "      <td>...</td>\n",
       "      <td>...</td>\n",
       "      <td>...</td>\n",
       "    </tr>\n",
       "    <tr>\n",
       "      <th>93</th>\n",
       "      <td>'Squid Game' actor Anupam Tripathi meets Anura...</td>\n",
       "      <td>Actor Anupam Tripathi, who played the role of ...</td>\n",
       "      <td>entertainment</td>\n",
       "    </tr>\n",
       "    <tr>\n",
       "      <th>94</th>\n",
       "      <td>'Yaariyan 2' to star Priya Prakash Varrier, Me...</td>\n",
       "      <td>T-Series on Wednesday announced the sequel of ...</td>\n",
       "      <td>entertainment</td>\n",
       "    </tr>\n",
       "    <tr>\n",
       "      <th>95</th>\n",
       "      <td>Wholesome &amp; cathartic experience: Ananya on 'K...</td>\n",
       "      <td>Actress Ananya Panday has wrapped up the shoot...</td>\n",
       "      <td>entertainment</td>\n",
       "    </tr>\n",
       "    <tr>\n",
       "      <th>96</th>\n",
       "      <td>Amitabh Bachchan is still naughty &amp; sometimes ...</td>\n",
       "      <td>Actress Hema Malini said that veteran actor Am...</td>\n",
       "      <td>entertainment</td>\n",
       "    </tr>\n",
       "    <tr>\n",
       "      <th>97</th>\n",
       "      <td>Salman Khan whitewashing his toxic masculinity...</td>\n",
       "      <td>Speaking about Sajid Khan's participation in '...</td>\n",
       "      <td>entertainment</td>\n",
       "    </tr>\n",
       "  </tbody>\n",
       "</table>\n",
       "<p>98 rows × 3 columns</p>\n",
       "</div>"
      ],
      "text/plain": [
       "                                                title  \\\n",
       "0   Robot addresses UK Parliament, says 'Although ...   \n",
       "1   Russia adds Meta to its list of 'terrorist and...   \n",
       "2   I have spoken to Putin only once and that was ...   \n",
       "3   Wipro's net employee addition falls to 605, at...   \n",
       "4   Intel plans to cut thousands of jobs amid PC m...   \n",
       "..                                                ...   \n",
       "93  'Squid Game' actor Anupam Tripathi meets Anura...   \n",
       "94  'Yaariyan 2' to star Priya Prakash Varrier, Me...   \n",
       "95  Wholesome & cathartic experience: Ananya on 'K...   \n",
       "96  Amitabh Bachchan is still naughty & sometimes ...   \n",
       "97  Salman Khan whitewashing his toxic masculinity...   \n",
       "\n",
       "                                              content       category  \n",
       "0   A 'robot artist' called Ai-Da interacted with ...     technology  \n",
       "1   Russia's financial monitoring agency, Rosfinmo...     technology  \n",
       "2   Elon Musk on Tuesday tweeted, \"I have spoken t...     technology  \n",
       "3   IT services firm Wipro on Wednesday said its n...     technology  \n",
       "4   Chipmaker Intel is planning to cut thousands o...     technology  \n",
       "..                                                ...            ...  \n",
       "93  Actor Anupam Tripathi, who played the role of ...  entertainment  \n",
       "94  T-Series on Wednesday announced the sequel of ...  entertainment  \n",
       "95  Actress Ananya Panday has wrapped up the shoot...  entertainment  \n",
       "96  Actress Hema Malini said that veteran actor Am...  entertainment  \n",
       "97  Speaking about Sajid Khan's participation in '...  entertainment  \n",
       "\n",
       "[98 rows x 3 columns]"
      ]
     },
     "execution_count": 154,
     "metadata": {},
     "output_type": "execute_result"
    }
   ],
   "source": [
    "pd.DataFrame(articles)"
   ]
  },
  {
   "cell_type": "code",
   "execution_count": null,
   "id": "fa29d14e",
   "metadata": {},
   "outputs": [],
   "source": []
  },
  {
   "cell_type": "code",
   "execution_count": 3,
   "id": "18d76ef2",
   "metadata": {},
   "outputs": [],
   "source": [
    "import acquire"
   ]
  },
  {
   "cell_type": "code",
   "execution_count": 4,
   "id": "bdfb1a59",
   "metadata": {},
   "outputs": [],
   "source": [
    "df = acquire.get_blog_articles()\n",
    "df"
   ]
  },
  {
   "cell_type": "code",
   "execution_count": 6,
   "id": "2a159cee",
   "metadata": {},
   "outputs": [
    {
     "data": {
      "text/html": [
       "<div>\n",
       "<style scoped>\n",
       "    .dataframe tbody tr th:only-of-type {\n",
       "        vertical-align: middle;\n",
       "    }\n",
       "\n",
       "    .dataframe tbody tr th {\n",
       "        vertical-align: top;\n",
       "    }\n",
       "\n",
       "    .dataframe thead th {\n",
       "        text-align: right;\n",
       "    }\n",
       "</style>\n",
       "<table border=\"1\" class=\"dataframe\">\n",
       "  <thead>\n",
       "    <tr style=\"text-align: right;\">\n",
       "      <th></th>\n",
       "      <th>title</th>\n",
       "      <th>content</th>\n",
       "      <th>category</th>\n",
       "    </tr>\n",
       "  </thead>\n",
       "  <tbody>\n",
       "    <tr>\n",
       "      <th>0</th>\n",
       "      <td>Russia adds Meta to its list of 'terrorist and...</td>\n",
       "      <td>Russia's financial monitoring agency, Rosfinmo...</td>\n",
       "      <td>technology</td>\n",
       "    </tr>\n",
       "    <tr>\n",
       "      <th>1</th>\n",
       "      <td>Robot addresses UK Parliament, says 'Although ...</td>\n",
       "      <td>A 'robot artist' called Ai-Da interacted with ...</td>\n",
       "      <td>technology</td>\n",
       "    </tr>\n",
       "    <tr>\n",
       "      <th>2</th>\n",
       "      <td>I have spoken to Putin only once and that was ...</td>\n",
       "      <td>Elon Musk on Tuesday tweeted, \"I have spoken t...</td>\n",
       "      <td>technology</td>\n",
       "    </tr>\n",
       "    <tr>\n",
       "      <th>3</th>\n",
       "      <td>Wipro's net employee addition falls to 605, at...</td>\n",
       "      <td>IT services firm Wipro on Wednesday said its n...</td>\n",
       "      <td>technology</td>\n",
       "    </tr>\n",
       "    <tr>\n",
       "      <th>4</th>\n",
       "      <td>Infosys President Ravi Kumar S resigns</td>\n",
       "      <td>Infosys on Tuesday announced the resignation o...</td>\n",
       "      <td>technology</td>\n",
       "    </tr>\n",
       "    <tr>\n",
       "      <th>...</th>\n",
       "      <td>...</td>\n",
       "      <td>...</td>\n",
       "      <td>...</td>\n",
       "    </tr>\n",
       "    <tr>\n",
       "      <th>93</th>\n",
       "      <td>I may not be most talented, but I'm the hardes...</td>\n",
       "      <td>Actress Janhvi Kapoor has said that people hav...</td>\n",
       "      <td>entertainment</td>\n",
       "    </tr>\n",
       "    <tr>\n",
       "      <th>94</th>\n",
       "      <td>It's definitely gonna blow up: Shekhar on musi...</td>\n",
       "      <td>Music composer Shekhar Ravjiani took to Twitte...</td>\n",
       "      <td>entertainment</td>\n",
       "    </tr>\n",
       "    <tr>\n",
       "      <th>95</th>\n",
       "      <td>Loved Prashanth's work in 'KGF', he creates sp...</td>\n",
       "      <td>Actress Shruti Haasan praised filmmaker Prasha...</td>\n",
       "      <td>entertainment</td>\n",
       "    </tr>\n",
       "    <tr>\n",
       "      <th>96</th>\n",
       "      <td>Every day was difficult: Parineeti on filming ...</td>\n",
       "      <td>Parineeti Chopra shared that \"every day was di...</td>\n",
       "      <td>entertainment</td>\n",
       "    </tr>\n",
       "    <tr>\n",
       "      <th>97</th>\n",
       "      <td>Couldn't finish watching 'Bhool Bhulaiyaa 2', ...</td>\n",
       "      <td>Actress Katrina Kaif has said that she couldn'...</td>\n",
       "      <td>entertainment</td>\n",
       "    </tr>\n",
       "  </tbody>\n",
       "</table>\n",
       "<p>98 rows × 3 columns</p>\n",
       "</div>"
      ],
      "text/plain": [
       "                                                title  \\\n",
       "0   Russia adds Meta to its list of 'terrorist and...   \n",
       "1   Robot addresses UK Parliament, says 'Although ...   \n",
       "2   I have spoken to Putin only once and that was ...   \n",
       "3   Wipro's net employee addition falls to 605, at...   \n",
       "4              Infosys President Ravi Kumar S resigns   \n",
       "..                                                ...   \n",
       "93  I may not be most talented, but I'm the hardes...   \n",
       "94  It's definitely gonna blow up: Shekhar on musi...   \n",
       "95  Loved Prashanth's work in 'KGF', he creates sp...   \n",
       "96  Every day was difficult: Parineeti on filming ...   \n",
       "97  Couldn't finish watching 'Bhool Bhulaiyaa 2', ...   \n",
       "\n",
       "                                              content       category  \n",
       "0   Russia's financial monitoring agency, Rosfinmo...     technology  \n",
       "1   A 'robot artist' called Ai-Da interacted with ...     technology  \n",
       "2   Elon Musk on Tuesday tweeted, \"I have spoken t...     technology  \n",
       "3   IT services firm Wipro on Wednesday said its n...     technology  \n",
       "4   Infosys on Tuesday announced the resignation o...     technology  \n",
       "..                                                ...            ...  \n",
       "93  Actress Janhvi Kapoor has said that people hav...  entertainment  \n",
       "94  Music composer Shekhar Ravjiani took to Twitte...  entertainment  \n",
       "95  Actress Shruti Haasan praised filmmaker Prasha...  entertainment  \n",
       "96  Parineeti Chopra shared that \"every day was di...  entertainment  \n",
       "97  Actress Katrina Kaif has said that she couldn'...  entertainment  \n",
       "\n",
       "[98 rows x 3 columns]"
      ]
     },
     "execution_count": 6,
     "metadata": {},
     "output_type": "execute_result"
    }
   ],
   "source": [
    "df = acquire.get_news_articles()\n",
    "df"
   ]
  },
  {
   "cell_type": "code",
   "execution_count": null,
   "id": "ac4ce6d3",
   "metadata": {},
   "outputs": [],
   "source": []
  },
  {
   "cell_type": "code",
   "execution_count": null,
   "id": "8632a70a",
   "metadata": {},
   "outputs": [],
   "source": []
  }
 ],
 "metadata": {
  "kernelspec": {
   "display_name": "Python 3 (ipykernel)",
   "language": "python",
   "name": "python3"
  },
  "language_info": {
   "codemirror_mode": {
    "name": "ipython",
    "version": 3
   },
   "file_extension": ".py",
   "mimetype": "text/x-python",
   "name": "python",
   "nbconvert_exporter": "python",
   "pygments_lexer": "ipython3",
   "version": "3.9.12"
  }
 },
 "nbformat": 4,
 "nbformat_minor": 5
}
